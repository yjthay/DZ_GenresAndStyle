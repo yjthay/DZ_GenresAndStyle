{
 "cells": [
  {
   "cell_type": "markdown",
   "source": [
    "# Initialisation"
   ],
   "metadata": {
    "collapsed": false
   }
  },
  {
   "cell_type": "markdown",
   "source": [
    "## Installing necessary components"
   ],
   "metadata": {
    "collapsed": false
   }
  },
  {
   "cell_type": "code",
   "execution_count": null,
   "outputs": [],
   "source": [
    "!pip install transformers\n",
    "!pip install datasets\n",
    "!pip install osfclient\n",
    "!pip install sentencepiece\n",
    "!pip install simpletransformers==0.61.14\n",
    "from simpletransformers.classification import MultiLabelClassificationModel\n",
    "# !git clone https://github.com/yjthay/DZ_GenresAndStyle.git\n",
    "import csv\n",
    "import os\n",
    "from os import listdir\n",
    "from os.path import isfile, join\n",
    "import numpy as np\n",
    "import pandas as pd\n",
    "import matplotlib.pyplot as plt\n",
    "from tqdm import tqdm\n",
    "import pickle\n",
    "import itertools\n",
    "from sklearn.preprocessing import MultiLabelBinarizer\n",
    "from sklearn.feature_extraction.text import TfidfVectorizer\n",
    "import pandas as pd\n",
    "import nltk\n",
    "import string\n",
    "from nltk.stem import PorterStemmer\n",
    "from wordcloud import WordCloud\n",
    "import seaborn as sns\n",
    "from scipy import stats\n",
    "\n",
    "sns.set_theme(style=\"whitegrid\")\n",
    "\n",
    "from wordcloud import WordCloud\n",
    "import matplotlib.pyplot as plt\n",
    "\n",
    "import re\n",
    "\n",
    "from datasets import load_dataset, list_datasets\n",
    "import torch\n",
    "from torch.utils.data import Dataset, DataLoader\n",
    "from transformers import BertModel, BertTokenizer, DistilBertModel, DistilBertTokenizer,RobertaModel, RobertaTokenizer\n",
    "\n",
    "nltk.download('stopwords')\n",
    "!wget https://raw.githubusercontent.com/yjthay/DZ_GenresAndStyle/master/utils.py\n",
    "!wget https://raw.githubusercontent.com/yjthay/DZ_GenresAndStyle/master/data/ekman_mapping.json -P ./data/\n",
    "!wget https://raw.githubusercontent.com/yjthay/DZ_GenresAndStyle/master/data/sentiment_mapping.json -P ./data/\n",
    "# %cd /content/DZ_GenresAndStyle/"
   ],
   "metadata": {
    "collapsed": false,
    "pycharm": {
     "name": "#%%\n"
    }
   }
  },
  {
   "cell_type": "markdown",
   "source": [
    "## Pull OSF Repository"
   ],
   "metadata": {
    "collapsed": false
   }
  },
  {
   "cell_type": "code",
   "execution_count": null,
   "outputs": [],
   "source": [
    "!osf -p cku2b clone /content/"
   ],
   "metadata": {
    "collapsed": false,
    "pycharm": {
     "name": "#%%\n"
    }
   }
  },
  {
   "cell_type": "markdown",
   "source": [
    "## Utility functions"
   ],
   "metadata": {
    "collapsed": false
   }
  },
  {
   "cell_type": "code",
   "execution_count": null,
   "outputs": [],
   "source": [
    "from utils import *"
   ],
   "metadata": {
    "collapsed": false,
    "pycharm": {
     "name": "#%%\n"
    }
   }
  },
  {
   "cell_type": "markdown",
   "source": [
    "## Load full dataset"
   ],
   "metadata": {
    "collapsed": false
   }
  },
  {
   "cell_type": "code",
   "execution_count": null,
   "outputs": [],
   "source": [
    "data = load_dataset('go_emotions')"
   ],
   "metadata": {
    "collapsed": false,
    "pycharm": {
     "name": "#%%\n"
    }
   }
  },
  {
   "cell_type": "markdown",
   "source": [
    "## Analysis of labels"
   ],
   "metadata": {
    "collapsed": false
   }
  },
  {
   "cell_type": "code",
   "execution_count": null,
   "outputs": [],
   "source": [
    "data_labels_all = data['train']['labels'] + data['test']['labels'] + data['validation']['labels']\n",
    "print(\"Total number of train, test and validation samples is {}\".format(len(data_labels_all)))\n",
    "_labels, _counts = np.unique([len(y) for y in data_labels_all], return_counts=True)\n",
    "fig = plt.figure()\n",
    "plt.bar(_labels, _counts, align='center')\n",
    "plt.gca().set_xticks(_labels)\n",
    "[print(\"Number of samples with {} label/labels = {}\".format(i, j)) for i, j in zip(_labels, _counts)]\n",
    "plt.title(\"Number of samples vs Labels/Sample\")\n",
    "plt.show()\n",
    "fig.savefig(\"/Samples vs Labels-per-Sample.png\")"
   ],
   "metadata": {
    "collapsed": false,
    "pycharm": {
     "name": "#%%\n"
    }
   }
  },
  {
   "cell_type": "code",
   "execution_count": null,
   "outputs": [],
   "source": [
    "label_mapping = {}\n",
    "label_names = data['train'].features['labels'].__dict__['feature'].names\n",
    "for i, emotion in enumerate(label_names):\n",
    "    label_mapping[i] = emotion.strip()\n",
    "label_mapping"
   ],
   "metadata": {
    "collapsed": false,
    "pycharm": {
     "name": "#%%\n"
    }
   }
  },
  {
   "cell_type": "code",
   "execution_count": null,
   "outputs": [],
   "source": [
    "all_labels = list(itertools.chain.from_iterable(data_labels_all))\n",
    "_labels, _counts = np.unique(all_labels, return_counts=True)\n",
    "fig,ax = plt.subplots(constrained_layout=True)\n",
    "plt.bar(_labels, _counts, align='center')\n",
    "plt.gca().set_xticks(_labels)\n",
    "ax.set_xticklabels(label_names, horizontalalignment='right', wrap=True, rotation=45)\n",
    "plt.title(\"Number of samples per GoEmotion label\")\n",
    "plt.show()\n",
    "fig.savefig(\"/number-of-samples-per-goemo.png\")"
   ],
   "metadata": {
    "collapsed": false,
    "pycharm": {
     "name": "#%%\n"
    }
   }
  },
  {
   "cell_type": "code",
   "execution_count": null,
   "outputs": [],
   "source": [
    "def ratio_of_multi_label(list_of_list, label_mapping):\n",
    "    num = len(label_mapping)\n",
    "    all_labels = list(itertools.chain.from_iterable(list_of_list))\n",
    "    _labels, _counts = np.unique(all_labels, return_counts=True)\n",
    "    output = dict(zip([label_mapping[i] for i in range(num)],[0 for i in range(num)]))\n",
    "    for labels in list_of_list:\n",
    "        if len(labels)>1:\n",
    "            for label in labels:\n",
    "                output[label_mapping[label]]+=1/_counts[label]\n",
    "    return output\n",
    "create_heatmap(pd.DataFrame(ratio_of_multi_label(data_labels_all,label_mapping),['Ratio']).transpose(),\n",
    "               None,\n",
    "               \"Ratio of Multi-Class labels.png\",\n",
    "               fig_size=(2,8))"
   ],
   "metadata": {
    "collapsed": false,
    "pycharm": {
     "name": "#%%\n"
    }
   }
  },
  {
   "cell_type": "markdown",
   "source": [
    "## Analysis of text"
   ],
   "metadata": {
    "collapsed": false
   }
  },
  {
   "cell_type": "code",
   "execution_count": null,
   "outputs": [],
   "source": [
    "data_text_all = data['train']['text'] + data['test']['text'] + data['validation']['text']\n",
    "BERT_TYPE_LIST = ['bert-base-cased', 'roberta-base']\n",
    "bert_type = 'bert-base-cased'\n",
    "[print(i) for i in data_text_all[:5]]\n",
    "tokenizer = BertTokenizer.from_pretrained(bert_type)\n",
    "tokens = tokenizer(data_text_all, padding='max_length', truncation=True, max_length=64, return_tensors=\"pt\")\n",
    "# tokens = tokenizer(data_text_all, padding=True, return_tensors=\"pt\")"
   ],
   "metadata": {
    "collapsed": false,
    "pycharm": {
     "name": "#%%\n"
    }
   }
  },
  {
   "cell_type": "markdown",
   "source": [
    "### Histogram of input sequence length"
   ],
   "metadata": {
    "collapsed": false
   }
  },
  {
   "cell_type": "code",
   "execution_count": null,
   "outputs": [],
   "source": [
    "max_len = 0\n",
    "total = 0\n",
    "a = [sum(i != 0).item() for i in tokens['input_ids']]\n",
    "fig = plt.figure()\n",
    "plt.hist(a)\n",
    "plt.title(\"Distribution of sequence length of input text\")\n",
    "fig.savefig(\"/histogram-of-seq-length.png\")"
   ],
   "metadata": {
    "collapsed": false,
    "pycharm": {
     "name": "#%%\n"
    }
   }
  },
  {
   "cell_type": "code",
   "execution_count": null,
   "outputs": [],
   "source": [
    "count=0\n",
    "for input, att in zip(tokens['input_ids'], tokens['attention_mask']):\n",
    "    if sum(att) > 64:\n",
    "        count+=1\n",
    "        print(sum(att),count)\n",
    "        print(tokenizer.decode(input))"
   ],
   "metadata": {
    "collapsed": false,
    "pycharm": {
     "name": "#%%\n"
    }
   }
  },
  {
   "cell_type": "markdown",
   "source": [
    "### Word Cloud"
   ],
   "metadata": {
    "collapsed": false
   }
  },
  {
   "cell_type": "code",
   "execution_count": null,
   "outputs": [],
   "source": [
    "from nltk.corpus import stopwords\n",
    "\n",
    "data_text_all = data['train']['text'] + data['test']['text'] + data['validation']['text']\n",
    "data_labels_all = data['train']['labels'] + data['test']['labels'] + data['validation']['labels']\n",
    "stop = stopwords.words('english')\n",
    "stop.append('')\n",
    "stop.append('[name]')"
   ],
   "metadata": {
    "collapsed": false,
    "pycharm": {
     "name": "#%%\n"
    }
   }
  },
  {
   "cell_type": "code",
   "execution_count": null,
   "outputs": [],
   "source": [
    "porter = PorterStemmer()\n",
    "sentences = [sentence.split(\" \") for sentence in data_text_all]\n",
    "sentence_word = []\n",
    "\n",
    "# Remove stop words and create a list of list of the stemmed words\n",
    "for sentence in sentences:\n",
    "    sentence_word.append([porter.stem(w) for w in sentence if w.lower() not in stop])\n",
    "\n",
    "# Allocated stemmed words to the specific labels we see them\n",
    "words_of_label = {}\n",
    "\n",
    "for idx, multilabel in enumerate(data_labels_all):\n",
    "    for label in multilabel:\n",
    "        if label not in words_of_label.keys():\n",
    "            words_of_label[label] = sentence_word[idx]\n",
    "        else:\n",
    "            words_of_label[label] += sentence_word[idx]\n",
    "\n",
    "corpus=[[] for _ in range(28)]\n",
    "for idx, multilabel in enumerate(data_labels_all):\n",
    "    for label in multilabel:\n",
    "        corpus[label] += sentence_word[idx]\n",
    "\n",
    "output= []\n",
    "for i in range(len(corpus)):\n",
    "    output.append(' '.join(corpus[i]))"
   ],
   "metadata": {
    "collapsed": false,
    "pycharm": {
     "name": "#%%\n"
    }
   }
  },
  {
   "cell_type": "code",
   "execution_count": null,
   "outputs": [],
   "source": [
    "vectorizer = TfidfVectorizer()\n",
    "X = vectorizer.fit_transform(output)\n",
    "tf_idf = pd.DataFrame(X.toarray(), columns=vectorizer.get_feature_names())\n",
    "\n",
    "f = plt.figure(figsize=(30,15))\n",
    "f.suptitle(\"Most Frequent 30 Words\",fontsize=20)\n",
    "for i in range(28):\n",
    "    wordCloud = WordCloud(max_words=30, width=800, height=800, background_color='lightgrey')\n",
    "    wordCloud.generate_from_frequencies(nltk.FreqDist(words_of_label[i]))\n",
    "\n",
    "    ax = f.add_subplot(4,7, i+1)\n",
    "    ax.set_title(label_mapping[i].capitalize(),fontsize=16)\n",
    "    ax.imshow(wordCloud, interpolation='bilinear', aspect=\"auto\")\n",
    "    ax.axis(\"off\")\n",
    "f.tight_layout()\n",
    "f.subplots_adjust(top=0.94)\n",
    "f.savefig(\"/wc.png\")"
   ],
   "metadata": {
    "collapsed": false,
    "pycharm": {
     "name": "#%%\n"
    }
   }
  },
  {
   "cell_type": "markdown",
   "source": [
    "### GoEmotions TF-IDF Similarity to Neutral"
   ],
   "metadata": {
    "collapsed": false
   }
  },
  {
   "cell_type": "code",
   "execution_count": null,
   "outputs": [],
   "source": [
    "tfidf={}\n",
    "for i in range(28):\n",
    "    tfidf[label_mapping[i]]=tf_idf.loc[i,:] @ tf_idf.loc[27,:].T\n",
    "\n",
    "create_heatmap(pd.DataFrame(tfidf,index=['Dot Product']).transpose(),None,\"TF-IDF Similarity to Neutral\", fig_size=(1,6))"
   ],
   "metadata": {
    "collapsed": false,
    "pycharm": {
     "name": "#%%\n"
    }
   }
  },
  {
   "cell_type": "markdown",
   "source": [
    "### Similarity of Tokenizer's Vocabulary"
   ],
   "metadata": {
    "collapsed": false
   }
  },
  {
   "cell_type": "code",
   "execution_count": null,
   "outputs": [],
   "source": [
    "replacer = lambda x: x.replace('##', \"\")\n",
    "\n",
    "bert_cased = AutoTokenizer.from_pretrained('bert-base-cased')\n",
    "distilbert = AutoTokenizer.from_pretrained('distilbert-base-cased')\n",
    "roberta = AutoTokenizer.from_pretrained('roberta-base')\n",
    "t5 = AutoTokenizer.from_pretrained('t5-base')\n",
    "\n",
    "bert_cased_woc = list(map(replacer, bert_cased.vocab.keys()))\n",
    "distilbert_woc = list(map(replacer,distilbert.vocab.keys()))\n",
    "roberta_woc = list(map(replacer,roberta.vocab.keys()))\n",
    "t5_woc = list(map(replacer,t5.vocab.keys()))\n",
    "\n",
    "wlists=[distilbert_woc, bert_cased_woc, roberta_woc, t5_woc]\n",
    "output=np.zeros((4,4))\n",
    "for idx_f,wlist_f in enumerate(wlists):\n",
    "    for idx_s, wlist_s in enumerate(wlists):\n",
    "        _, f, s = get_vocab_similarity(wlist_f, wlist_s)\n",
    "        output[idx_s][idx_f], output[idx_f][idx_s]=f,s\n",
    "\n",
    "model_names=['distilbert','bert','roberta','t5']\n",
    "create_heatmap(pd.DataFrame(output,index=model_names,columns=model_names),None,'Vocab Token Similarity',fig_size=(5,5))"
   ],
   "metadata": {
    "collapsed": false,
    "pycharm": {
     "name": "#%%\n"
    }
   }
  },
  {
   "cell_type": "markdown",
   "source": [
    "# Training"
   ],
   "metadata": {
    "collapsed": false
   }
  },
  {
   "cell_type": "code",
   "execution_count": null,
   "outputs": [],
   "source": [
    "# Load the Drive helper and mount\n",
    "from google.colab import drive\n",
    "\n",
    "# This will prompt for authorization.\n",
    "drive.mount('/content/drive')\n",
    "\n",
    "pre_path='/content/drive/MyDrive/DeepZen/'"
   ],
   "metadata": {
    "collapsed": false,
    "pycharm": {
     "name": "#%%\n"
    }
   }
  },
  {
   "cell_type": "markdown",
   "source": [
    "## Training model for various BERTs"
   ],
   "metadata": {
    "collapsed": false
   }
  },
  {
   "cell_type": "code",
   "execution_count": null,
   "outputs": [],
   "source": [
    "DEVICE = 'cuda'  # cuda or cpu\n",
    "save_path = pre_path+'model/epochs/'\n",
    "max_length=64\n",
    "\n",
    "data = load_dataset('go_emotions')\n",
    "train_dataset = EmotionsDataset(data['train'], device=DEVICE, max_length=max_length)\n",
    "val_dataset = EmotionsDataset(data['validation'], device=DEVICE, max_length=max_length)\n",
    "\n",
    "train_data = pd.DataFrame(list(zip(train_dataset.text, train_dataset.labels.tolist())),columns=[\"text\",\"labels\"])\n",
    "val_data= pd.DataFrame(list(zip(val_dataset.text, val_dataset.labels.tolist())),columns=[\"text\",\"labels\"])\n",
    "for name in ['roberta-base', 'distilbert-base-cased', 'bert-base-cased']:\n",
    "    architecture = re.findall(\"^(.*?)-\",name)[0]\n",
    "    model = MultiLabelClassificationModel(architecture, name, args=gen_train_args(name, save_path), num_labels = 28)\n",
    "    model.train_model(train_data, eval_df=val_data)"
   ],
   "metadata": {
    "collapsed": false,
    "pycharm": {
     "name": "#%%\n"
    }
   }
  },
  {
   "cell_type": "markdown",
   "source": [
    "## Training model for various BERTs - Reduced"
   ],
   "metadata": {
    "collapsed": false,
    "pycharm": {
     "name": "#%% md\n"
    }
   }
  },
  {
   "cell_type": "code",
   "execution_count": null,
   "outputs": [],
   "source": [
    "DEVICE = 'cuda'  # cuda or cpu\n",
    "save_path = pre_path+'model/epochs/reduced/'\n",
    "max_length=64\n",
    "\n",
    "data = load_dataset('go_emotions')\n",
    "# val_data = T5Dataset(data['validation'], goemo_ratio=1.0)\n",
    "train,test,val = data_reduction(data['train']), data_reduction(data['test']), data_reduction(data['validation'])\n",
    "data = {'train':train, 'validation':val, 'test':test}\n",
    "\n",
    "train_dataset = EmotionsDataset(data['train'], device=DEVICE, max_length=max_length)\n",
    "val_dataset = EmotionsDataset(data['validation'], device=DEVICE, max_length=max_length)\n",
    "\n",
    "train_data = pd.DataFrame(list(zip(train_dataset.text, train_dataset.labels.tolist())),columns=[\"text\",\"labels\"])\n",
    "val_data= pd.DataFrame(list(zip(val_dataset.text, val_dataset.labels.tolist())),columns=[\"text\",\"labels\"])\n",
    "for name in ['roberta-base', 'distilbert-base-cased', 'bert-base-cased']:\n",
    "    architecture = re.findall(\"^(.*?)-\",name)[0]\n",
    "    model = MultiLabelClassificationModel(architecture, name, args=gen_train_args(name, save_path), num_labels = 28)\n",
    "    model.train_model(train_data, eval_df=val_data)"
   ],
   "metadata": {
    "collapsed": false,
    "pycharm": {
     "name": "#%%\n"
    }
   }
  },
  {
   "cell_type": "markdown",
   "source": [
    "## T5 Training - Full Model"
   ],
   "metadata": {
    "collapsed": false
   }
  },
  {
   "cell_type": "code",
   "execution_count": null,
   "outputs": [],
   "source": [
    "data = load_dataset('go_emotions')\n",
    "val_data = T5Dataset(data['validation'], goemo_ratio=1.0)\n",
    "DEVICE = 'cuda'  # cuda or cpu\n",
    "\n",
    "for ratio in [1.0,0.75,0.5,0.333]:\n",
    "    save_path = '/content/drive/MyDrive/DeepZen/model/epochs/t5-base/'\n",
    "    # model_file_path = best_model_filename(pre_path+str(ratio)+'/')\n",
    "    # tuned_model = torch.load(model_file_path, map_location=torch.device(DEVICE))\n",
    "    model = T5Model().to(DEVICE)\n",
    "    train_losses, val_losses = train_T5(model, data, goemo_ratio=ratio, epochs=20, lr=2e-5, batch_size=16, show_progress=True, save_path=save_path+\"/\"+str(ratio)+\"/\")"
   ],
   "metadata": {
    "collapsed": false,
    "pycharm": {
     "name": "#%%\n"
    }
   }
  },
  {
   "cell_type": "markdown",
   "source": [
    "## T5 Training - Reduced Model"
   ],
   "metadata": {
    "collapsed": false
   }
  },
  {
   "cell_type": "code",
   "execution_count": null,
   "outputs": [],
   "source": [
    "data = load_dataset('go_emotions')\n",
    "# val_data = T5Dataset(data['validation'], goemo_ratio=1.0)\n",
    "train,test,val = data_reduction(data['train']), data_reduction(data['test']), data_reduction(data['validation'])\n",
    "data = {'train':train, 'validation':val, 'test':test}\n",
    "DEVICE = 'cuda'  # cuda or cpu\n",
    "\n",
    "for ratio in [1.0,0.75, 0.5,0.333]:\n",
    "    save_path = '/content/drive/MyDrive/DeepZen/model/epochs/reduced/'\n",
    "    # model_file_path = best_model_filename(pre_path+str(ratio)+'/')\n",
    "    # tuned_model = torch.load(model_file_path, map_location=torch.device(DEVICE))\n",
    "    model = T5Model().to(DEVICE)\n",
    "    train_losses, val_losses = train_T5(model, data, goemo_ratio=ratio, epochs=20, lr=2e-5, batch_size=16, show_progress=True, save_path=save_path)"
   ],
   "metadata": {
    "collapsed": false,
    "pycharm": {
     "name": "#%%\n"
    }
   }
  },
  {
   "cell_type": "markdown",
   "source": [
    "## T5-0.75 Training - Epochs Per Metric\n",
    "Extract metrics of every epoch in T5-0.75 training"
   ],
   "metadata": {
    "collapsed": false
   }
  },
  {
   "cell_type": "code",
   "execution_count": null,
   "outputs": [],
   "source": [
    "from sklearn.metrics import f1_score, recall_score, precision_score, hamming_loss, accuracy_score, jaccard_score\n",
    "\n",
    "def temp_train_T5(model, data, goemo_ratio, epochs, lr, batch_size, early_stopping=True, show_progress=False, save_path=None):\n",
    "    criterion = torch.nn.BCELoss()\n",
    "    optimizer = torch.optim.AdamW(model.parameters(), lr=lr)\n",
    "    test_data = EmotionsDataset(data['test'], max_length=64, device=DEVICE)\n",
    "    test_data_val = EmotionsDataset(data['validation'], max_length=64, device=DEVICE)\n",
    "    t5_data_set = T5Dataset(data['test'], goemo_ratio=1.0)\n",
    "    t5_data_set_val = T5Dataset(data['validation'], goemo_ratio=1.0)\n",
    "\n",
    "    # Construct data loader from training and validation dataset\n",
    "    val_loader = DataLoader(T5Dataset(data['validation'], goemo_ratio=1.0), batch_size=batch_size)\n",
    "    output={}\n",
    "    val_losses = []\n",
    "    train_losses = []\n",
    "\n",
    "    best_model, best_val_loss = None, np.inf\n",
    "    # Training\n",
    "    for epoch in range(epochs):\n",
    "        # backprop\n",
    "        train_loader = DataLoader(T5Dataset(data['train'], goemo_ratio=goemo_ratio), batch_size=batch_size,\n",
    "                                  shuffle=True)\n",
    "        running_loss = 0.0\n",
    "        inner_iter = 0\n",
    "        pbar = tqdm(train_loader, position=0, leave=True)\n",
    "        epoch_idx = int(epoch + 1)\n",
    "        model.train()\n",
    "        for x_inputs, x_masks, y_inputs, y_masks, _, _ in pbar:\n",
    "            pbar.set_description(\"Processing Epoch %d\" % epoch_idx)\n",
    "\n",
    "            lm_labels = y_inputs\n",
    "            lm_labels[lm_labels[:, :] == config.TOKENIZER.pad_token_id] = -100\n",
    "\n",
    "            optimizer.zero_grad()\n",
    "            outputs = model(input_ids=x_inputs,\n",
    "                            attention_mask=x_masks,\n",
    "                            lm_labels=lm_labels,\n",
    "                            decoder_attention_mask=y_masks)\n",
    "            loss = outputs[0]\n",
    "            loss.backward()\n",
    "            optimizer.step()\n",
    "            running_loss += loss.item()\n",
    "\n",
    "        # calculate training loss\n",
    "        train_loss = running_loss / len(train_loader)  # calculate validation loss\n",
    "\n",
    "        # y_pred, y_true = [], []\n",
    "        with torch.no_grad():\n",
    "            running_loss = 0.0\n",
    "            for x_val_inputs, x_val_masks, y_val_inputs, y_val_masks, x_text, y_labels in val_loader:\n",
    "                lm_labels = y_val_inputs\n",
    "                lm_labels[lm_labels[:, :] == config.TOKENIZER.pad_token_id] = -100\n",
    "                outputs_val = model(input_ids=x_val_inputs,\n",
    "                                    attention_mask=x_val_masks,\n",
    "                                    lm_labels=lm_labels,\n",
    "                                    decoder_attention_mask=y_val_masks)\n",
    "                loss = outputs_val[0]\n",
    "                running_loss += loss.item()\n",
    "\n",
    "\n",
    "        y_pred_test = predict_t5(model, t5_data_set)\n",
    "        y_true_test =  test_data.labels.cpu().numpy()\n",
    "        f1 = f1_score(y_true_test, y_pred_test, average=\"macro\")\n",
    "        j = jaccard_score(y_true_test, y_pred_test, average='macro')\n",
    "        p = precision_score(y_true_test, y_pred_test, average='macro')\n",
    "        r = recall_score(y_true_test, y_pred_test, average='macro')\n",
    "        h = hamming_loss(y_true_test, y_pred_test)\n",
    "\n",
    "\n",
    "        y_pred_test = predict_t5(model, t5_data_set_val)\n",
    "        y_true_test =  test_data_val.labels.cpu().numpy()\n",
    "        f1_val = f1_score(y_true_test, y_pred_test, average=\"macro\")\n",
    "        j_val = jaccard_score(y_true_test, y_pred_test, average='macro')\n",
    "        p_val = precision_score(y_true_test, y_pred_test, average='macro')\n",
    "        r_val = recall_score(y_true_test, y_pred_test, average='macro')\n",
    "        h_val = hamming_loss(y_true_test, y_pred_test)\n",
    "\n",
    "        # calculate validation loss\n",
    "        val_loss = running_loss / len(val_loader)  # calculate validation loss\n",
    "        output[epoch] = {'val_loss':val_loss, 'train_loss':train_loss,'f1_test':f1,\n",
    "                         'j_test':j, 'p_test':p, 'r_test':r,\n",
    "                         'h_test':h, 'f1_val':f1_val, 'j_val':j_val,\n",
    "                         'p_val':p_val,'r_val':r_val,'h_val':h_val}\n",
    "\n",
    "        # print status\n",
    "        if show_progress:\n",
    "            print('\\n Epoch = %d, Train loss = %.5f, Val loss = %.5f' % (epoch_idx, train_loss, val_loss))\n",
    "\n",
    "        # append training and validation loss\n",
    "        val_losses.append(val_loss)\n",
    "        train_losses.append(train_loss)\n",
    "\n",
    "        if best_val_loss > val_loss:\n",
    "            best_val_loss = val_loss\n",
    "            best_model = model\n",
    "        # else:\n",
    "        #     if early_stopping:\n",
    "        #         break\n",
    "\n",
    "        pbar.reset()\n",
    "    # save best model\n",
    "    if save_path is not None:\n",
    "        save_path_name = save_path + 'ratio_{}_{:.5f}.pt'.format(goemo_ratio, best_val_loss)\n",
    "        torch.save(best_model, save_path_name)\n",
    "\n",
    "    return train_losses, output\n",
    "\n",
    "data = load_dataset('go_emotions')\n",
    "val_data = T5Dataset(data['validation'], goemo_ratio=1.0)\n",
    "DEVICE = 'cuda'  # cuda or cpu\n",
    "save_path = pre_path+'model/'\n",
    "\n",
    "for ratio in [0.75]:\n",
    "    model = T5Model().to(DEVICE)\n",
    "    train_losses, output = temp_train_T5(model, data, goemo_ratio=ratio, epochs=20, lr=2e-5, batch_size=16, show_progress=True, save_path=save_path)\n",
    "\n",
    "p=['val_loss','train_loss', 'f1_test', 'jaccard_test', 'precision_test', 'recall_test', 'hamming_test', 'f1_val', 'jaccard_val', 'precision_val', 'recall_val', 'hamming_val']\n",
    "new_output={}\n",
    "for key in output.keys():\n",
    "    new_output[key] = dict(zip(p,list(output[key].values())))\n",
    "\n",
    "with open(save_path\"epoch-v-metrics.pkl\", 'wb') as f:\n",
    "    pickle.dump(new_output, f)"
   ],
   "metadata": {
    "collapsed": false,
    "pycharm": {
     "name": "#%%\n"
    }
   }
  },
  {
   "cell_type": "markdown",
   "source": [
    "## Duplicating files into osf storage from Google Drive"
   ],
   "metadata": {
    "collapsed": false
   }
  },
  {
   "cell_type": "code",
   "execution_count": null,
   "outputs": [],
   "source": [
    "!osf init\n",
    "!osf list\n",
    "!osf -p cku2b upload -r /content/drive/MyDrive/DeepZen/model/epochs /model/"
   ],
   "metadata": {
    "collapsed": false,
    "pycharm": {
     "name": "#%%\n"
    }
   }
  },
  {
   "cell_type": "markdown",
   "source": [
    "# Analysis of results"
   ],
   "metadata": {
    "collapsed": false
   }
  },
  {
   "cell_type": "markdown",
   "source": [
    "## Epoch per Metric and Validation Loss"
   ],
   "metadata": {
    "collapsed": false
   }
  },
  {
   "cell_type": "code",
   "execution_count": null,
   "outputs": [],
   "source": [
    "pre_path = 'osfstorage/model/epochs/'\n",
    "# pre_path = '/content/drive/MyDrive/DeepZen/model/epochs/'\n",
    "\n",
    "with open(pre_path+\"epoch-v-metrics.pkl\", 'rb') as f:\n",
    "    new_output = pickle.load(f)\n",
    "\n",
    "def get_metric_score(d,metric='val_loss'):\n",
    "    epochs = max(d.keys())+1\n",
    "    x = []\n",
    "    for epoch in range(epochs):\n",
    "        x.append(d[epoch][metric])\n",
    "    return x\n",
    "\n",
    "def p_line(axs, title, ylabel, xlabel, data_x, data_y, line_label=None, line_color=None, marker=None):\n",
    "    axs.set_title(title)\n",
    "    axs.set_ylabel(ylabel)\n",
    "    axs.set_xlabel(xlabel)\n",
    "    axs.grid(True, which='both')\n",
    "    axs.plot(data_x, data_y, label=line_label, color=line_color,marker=marker)\n",
    "\n",
    "test_list = ['val_loss','hamming_test','f1_test', 'jaccard_test', 'precision_test', 'recall_test']\n",
    "val_list = ['val_loss','hamming_val','f1_val', 'jaccard_val', 'precision_val', 'recall_val']"
   ],
   "metadata": {
    "collapsed": false,
    "pycharm": {
     "name": "#%%\n"
    }
   }
  },
  {
   "cell_type": "code",
   "execution_count": null,
   "outputs": [],
   "source": [
    "fig, ax = plt.subplots(3,2,figsize=(10,10),constrained_layout=True)\n",
    "ax = ax.flatten()\n",
    "val_loss = get_metric_score(new_output,'val_loss')\n",
    "ax = ax.flatten()\n",
    "\n",
    "for idx,(t,v) in enumerate(zip(test_list,val_list)):\n",
    "    epochs = len(new_output)\n",
    "    metric = re.findall(\"^(.*?)_\",t)[0].capitalize()\n",
    "    if metric=='Val':\n",
    "        p_line(ax[idx],\"Validation\",'loss','epochs',range(epochs),get_metric_score(new_output,t),line_label='test',marker=\"o\")\n",
    "        ax[idx].axvline(x=np.argmin(val_loss), ymin=0, ymax=1, color='red', linestyle=\"--\")\n",
    "        ax[idx].legend(['Val Loss','Min Val'],loc=\"upper right\")\n",
    "    elif metric=='Hamming':\n",
    "        p_line(ax[idx],'Hamming Loss','loss','epochs',range(epochs),get_metric_score(new_output,t),line_label='test',marker=\"o\")\n",
    "        p_line(ax[idx],'Hamming Loss','loss','epochs',range(epochs),get_metric_score(new_output,v),line_label='val',marker=\"^\")\n",
    "        ax[idx].axvline(x=np.argmin(val_loss), ymin=0, ymax=1, color='red', linestyle=\"--\")\n",
    "        ax[idx].legend(['Test','Val','Min Val'],loc=\"upper right\")\n",
    "    else:\n",
    "        p_line(ax[idx],metric,'score','epochs',range(epochs),get_metric_score(new_output,t),line_label='test',marker=\"o\")\n",
    "        p_line(ax[idx],metric,'score','epochs',range(epochs),get_metric_score(new_output,v),line_label='val',marker=\"^\")\n",
    "        ax[idx].axvline(x=np.argmin(val_loss), ymin=0, ymax=1, color='red', linestyle=\"--\")\n",
    "        ax[idx].legend(['Test','Val','Min Val'],loc=\"lower right\")\n",
    "\n",
    "    ax[idx].set_xlim(-1, epochs)\n",
    "fig.savefig(\"/epochs-v-metrics.png\")"
   ],
   "metadata": {
    "collapsed": false,
    "pycharm": {
     "name": "#%%\n"
    }
   }
  },
  {
   "cell_type": "markdown",
   "source": [
    "## F1 Score of Models (Testing)"
   ],
   "metadata": {
    "collapsed": false
   }
  },
  {
   "cell_type": "markdown",
   "source": [
    "### Obtain Metric Scores for BERT Models"
   ],
   "metadata": {
    "collapsed": false
   }
  },
  {
   "cell_type": "code",
   "execution_count": null,
   "outputs": [],
   "source": [
    "from sklearn.metrics import f1_score, recall_score, precision_score, hamming_loss, accuracy_score, jaccard_score\n",
    "\n",
    "model_names = ['distilbert-base-cased', 'bert-base-cased', 'roberta-base']#,'t5-base']\n",
    "DEVICE = 'cuda' #'cpu'\n",
    "pre_path = 'osfstorage/model/epochs/'\n",
    "# pre_path = '/content/drive/MyDrive/DeepZen/model/epochs/'\n",
    "tuned_models = {}\n",
    "for name in model_names:\n",
    "    architecture = re.findall(\"^(.*?)-\",name)[0]\n",
    "    tuned_models[name] = MultiLabelClassificationModel(architecture, pre_path+name+\"/outputs/best_model\")\n",
    "print(tuned_models.keys())\n",
    "\n",
    "test_data = EmotionsDataset(data['test'], max_length=64, device=DEVICE)\n",
    "t5_data_set = T5Dataset(data['test'], goemo_ratio=1.0)\n",
    "threshold = 0.3\n",
    "f1, precision, recall, jaccard = {}, {}, {}, {}\n",
    "for name in model_names:\n",
    "    # y_pred_test = predict(torch.load('/content/drive/MyDrive/DeepZen/model/epochs/roberta-base/epoch_2_0.15042.pt', map_location=torch.device(DEVICE)), test_data)\n",
    "    _, y_pred_test = tuned_models[name].predict(test_data.text)\n",
    "    architecture = re.findall(\"^(.*?)-\",name)[0]\n",
    "    y_true_test = test_data.labels.cpu().numpy()\n",
    "    y_pred_test = (y_pred_test>=threshold) * np.ones(y_pred_test.shape)\n",
    "    f1[architecture] = np.hstack((f1_score(y_true_test, y_pred_test, average=None),\n",
    "                          f1_score(y_true_test, y_pred_test, average='macro')))\n",
    "    precision[architecture] = np.hstack((precision_score(y_true_test, y_pred_test, average=None),\n",
    "                                 precision_score(y_true_test, y_pred_test, average='macro')))\n",
    "    recall[architecture] = np.hstack((recall_score(y_true_test, y_pred_test, average=None),\n",
    "                              recall_score(y_true_test, y_pred_test, average='macro')))\n",
    "    jaccard[architecture] = np.hstack((jaccard_score(y_true_test, y_pred_test, average=None),\n",
    "                                       jaccard_score(y_true_test, y_pred_test, average='macro'),\n",
    "                                       hamming_loss(y_true_test, y_pred_test)))\n",
    "    hl = hamming_loss(y_true_test, y_pred_test)\n",
    "    a = accuracy_score(y_true_test, y_pred_test)\n",
    "    print(\"Name: {} yields an Hamming Loss of {} and Accuracy of {}\".format(name, hl, a))"
   ],
   "metadata": {
    "collapsed": false,
    "pycharm": {
     "name": "#%%\n"
    }
   }
  },
  {
   "cell_type": "markdown",
   "source": [
    "### Obtain Metric Scores for BERT Models - Reduced"
   ],
   "metadata": {
    "collapsed": false,
    "pycharm": {
     "name": "#%% md\n"
    }
   }
  },
  {
   "cell_type": "code",
   "execution_count": null,
   "outputs": [],
   "source": [
    "model_names = ['distilbert-base-cased', 'bert-base-cased', 'roberta-base']\n",
    "pre_path = 'osfstorage/model/epochs/reduced/'\n",
    "# pre_path = '/content/drive/MyDrive/DeepZen/model/epochs/reduced/'\n",
    "tuned_models = {}\n",
    "for name in model_names:\n",
    "    architecture = re.findall(\"^(.*?)-\",name)[0]\n",
    "    tuned_models[name] = MultiLabelClassificationModel(architecture, pre_path+name+\"/outputs/best_model\")\n",
    "print(tuned_models.keys())\n",
    "\n",
    "for name in model_names:\n",
    "    # y_pred_test = predict(torch.load('/content/drive/MyDrive/DeepZen/model/epochs/roberta-base/epoch_2_0.15042.pt', map_location=torch.device(DEVICE)), test_data)\n",
    "    _, y_pred_test = tuned_models[name].predict(test_data.text)\n",
    "    architecture = re.findall(\"^(.*?)-\",name)[0]+\"\\nreduced\"\n",
    "    y_true_test = test_data.labels.cpu().numpy()\n",
    "    y_pred_test = (y_pred_test>=threshold) * np.ones(y_pred_test.shape)\n",
    "    f1[architecture] = np.hstack((f1_score(y_true_test, y_pred_test, average=None),\n",
    "                          f1_score(y_true_test, y_pred_test, average='macro')))\n",
    "    precision[architecture] = np.hstack((precision_score(y_true_test, y_pred_test, average=None),\n",
    "                                 precision_score(y_true_test, y_pred_test, average='macro')))\n",
    "    recall[architecture] = np.hstack((recall_score(y_true_test, y_pred_test, average=None),\n",
    "                              recall_score(y_true_test, y_pred_test, average='macro')))\n",
    "    jaccard[architecture] = np.hstack((jaccard_score(y_true_test, y_pred_test, average=None),\n",
    "                                       jaccard_score(y_true_test, y_pred_test, average='macro'),\n",
    "                                       hamming_loss(y_true_test, y_pred_test)))\n",
    "    hl = hamming_loss(y_true_test, y_pred_test)\n",
    "    a = accuracy_score(y_true_test, y_pred_test)\n",
    "    print(\"Name: {} yields an Hamming Loss of {} and Accuracy of {}\".format(name, hl, a))"
   ],
   "metadata": {
    "collapsed": false,
    "pycharm": {
     "name": "#%%\n"
    }
   }
  },
  {
   "cell_type": "markdown",
   "source": [
    "### Obtain average Metric Scores for T5 Models"
   ],
   "metadata": {
    "collapsed": false
   }
  },
  {
   "cell_type": "code",
   "execution_count": null,
   "outputs": [],
   "source": [
    "# pre_path = '/content/drive/MyDrive/DeepZen/model/epochs'\n",
    "pre_path = 'osfstorage/model/epochs/'\n",
    "ratios=[1.0,0.75,0.5,0.333]\n",
    "f1_std, precision_std, recall_std, jaccard_std = {},{},{},{}\n",
    "f1_raw, precision_raw, recall_raw, jaccard_raw = {},{},{},{}\n",
    "for dir,folders,files in os.walk(pre_path):\n",
    "    for ratio in ratios:\n",
    "        f_all, p_all, r_all, j_all=[], [], [], []\n",
    "        path=pre_path+str(ratio)\n",
    "        if dir==path:\n",
    "            for f in files:\n",
    "                fname =path+'/'+f\n",
    "                name = 't5-'+re.findall('_(.+)_',f)[0]\n",
    "                y_pred_test = predict_t5(torch.load(fname, map_location=torch.device(DEVICE)), t5_data_set)\n",
    "                y_true_test =  test_data.labels.cpu().numpy()\n",
    "                f_all.append(np.hstack((f1_score(y_true_test, y_pred_test, average=None),\n",
    "                                        f1_score(y_true_test, y_pred_test, average='macro'))))\n",
    "                p_all.append(np.hstack((precision_score(y_true_test, y_pred_test, average=None),\n",
    "                                        precision_score(y_true_test, y_pred_test, average='macro'))))\n",
    "                r_all.append(np.hstack((recall_score(y_true_test, y_pred_test, average=None),\n",
    "                                        recall_score(y_true_test, y_pred_test, average='macro'))))\n",
    "                j_all.append(np.hstack((jaccard_score(y_true_test, y_pred_test, average=None),\n",
    "                                        jaccard_score(y_true_test, y_pred_test, average='macro'),\n",
    "                                        hamming_loss(y_true_test, y_pred_test))))\n",
    "            f1_raw[name], precision_raw[name], recall_raw[name], jaccard_raw[name] = f_all, p_all, r_all, j_all\n",
    "            f1[name], f1_std[name] = np.mean(f_all, axis=0), np.std(f_all, axis=0)\n",
    "            precision[name], precision_std[name] = np.mean(p_all,axis=0), np.std(p_all, axis=0)\n",
    "            recall[name], recall_std[name] = np.mean(r_all, axis=0), np.std(r_all, axis=0)\n",
    "            jaccard[name], jaccard_std[name] = np.mean(j_all, axis=0), np.std(j_all, axis=0)\n",
    "            print(\"Name: {} yields an Hamming Loss of {} and Macro F1 of {}\".format(name, jaccard[name][-1], f1[name][-1]))"
   ],
   "metadata": {
    "collapsed": false,
    "pycharm": {
     "name": "#%%\n"
    }
   }
  },
  {
   "cell_type": "markdown",
   "source": [
    "### Obtain Metric Scores for T5 Models - Reduced"
   ],
   "metadata": {
    "collapsed": false
   }
  },
  {
   "cell_type": "code",
   "execution_count": null,
   "outputs": [],
   "source": [
    "# pre_path = '/content/drive/MyDrive/DeepZen/model/epochs/reduced/'\n",
    "pre_path = 'osfstorage/model/epochs/reduced/'\n",
    "ratios=[1.0,0.75,0.5,0.333]\n",
    "for dir,folders,files in os.walk(pre_path):\n",
    "    if dir==pre_path:\n",
    "        for f in files:\n",
    "            print(f)\n",
    "            fname = pre_path+\"/\"+f\n",
    "            architecture = 't5-'+re.findall('_(.+)_',f)[0]+\"\\nreduced\"\n",
    "            y_pred_test = predict_t5(torch.load(fname, map_location=torch.device(DEVICE)), t5_data_set)\n",
    "            y_true_test =  test_data.labels.cpu().numpy()\n",
    "            f1[architecture] = np.hstack((f1_score(y_true_test, y_pred_test, average=None),\n",
    "                                          f1_score(y_true_test, y_pred_test, average='macro')))\n",
    "            precision[architecture] = np.hstack((precision_score(y_true_test, y_pred_test, average=None),\n",
    "                                                 precision_score(y_true_test, y_pred_test, average='macro')))\n",
    "            recall[architecture] = np.hstack((recall_score(y_true_test, y_pred_test, average=None),\n",
    "                                              recall_score(y_true_test, y_pred_test, average='macro')))\n",
    "            jaccard[architecture] = np.hstack((jaccard_score(y_true_test, y_pred_test, average=None),\n",
    "                                               jaccard_score(y_true_test, y_pred_test, average='macro'),\n",
    "                                               hamming_loss(y_true_test, y_pred_test)))"
   ],
   "metadata": {
    "collapsed": false,
    "pycharm": {
     "name": "#%%\n"
    }
   }
  },
  {
   "cell_type": "code",
   "execution_count": null,
   "outputs": [],
   "source": [
    "# Create Index for f1, precision and recall tables\n",
    "vals = list(config.GOEMO_MAPPING.values())\n",
    "base_index = np.hstack((vals, 'macro'))\n",
    "added_index = np.hstack((base_index,'hamming loss'))\n",
    "model_names=['distilbert', 'bert', 'roberta', 't5-1.0',  't5-0.75', 't5-0.5', 't5-0.333',\n",
    "             'distilbert\\nreduced', 'bert\\nreduced', 'roberta\\nreduced',\n",
    "             't5-1.0\\nreduced',  't5-0.75\\nreduced', 't5-0.5\\nreduced', 't5-0.333\\nreduced']\n",
    "base_index,added_index"
   ],
   "metadata": {
    "collapsed": false,
    "pycharm": {
     "name": "#%%\n"
    }
   }
  },
  {
   "cell_type": "code",
   "execution_count": null,
   "outputs": [],
   "source": [
    "pd.set_option('precision', 3)\n",
    "f1_emotions = pd.DataFrame(f1, index=base_index, columns=model_names)\n",
    "precision_emotions = pd.DataFrame(precision, index=base_index,columns=model_names)\n",
    "recall_emotions = pd.DataFrame(recall, index=base_index, columns=model_names)\n",
    "jaccard_emotions = pd.DataFrame(jaccard, index=added_index,columns=model_names)\n",
    "f1_std_ = pd.DataFrame(f1_std, index=base_index, columns=model_names)\n",
    "precision_std_ = pd.DataFrame(precision_std, index=base_index, columns=model_names)\n",
    "recall_std_ = pd.DataFrame(recall_std, index=base_index, columns=model_names)\n",
    "jaccard_std_ = pd.DataFrame(jaccard_std, index=added_index, columns=model_names)"
   ],
   "metadata": {
    "collapsed": false,
    "pycharm": {
     "name": "#%%\n"
    }
   }
  },
  {
   "cell_type": "markdown",
   "source": [
    "## Violin Plots of T5 Models"
   ],
   "metadata": {
    "collapsed": false
   }
  },
  {
   "cell_type": "code",
   "execution_count": null,
   "outputs": [],
   "source": [
    "metrics = {'f1':f1_raw, 'precision':precision_raw, 'recall':recall_raw, 'jaccard':jaccard_raw}\n",
    "\n",
    "plot_output={}\n",
    "for metric in metrics.keys():\n",
    "    tmp={}\n",
    "    for name in ['t5-1.0',  't5-0.75', 't5-0.5', 't5-0.333']:\n",
    "        # print(name, list(zip(*f1_raw[name]))[-1])\n",
    "        if metric==\"jaccard\":\n",
    "            tmp[name] = list(zip(*metrics[metric][name]))[-2]\n",
    "        else:\n",
    "            tmp[name] = list(zip(*metrics[metric][name]))[-1]\n",
    "    plot_output[metric]=tmp\n",
    "\n",
    "fig, ax = plt.subplots(2,2,figsize=(8,6), constrained_layout=True)\n",
    "ax = ax.flatten()\n",
    "\n",
    "for idx, metric in enumerate(plot_output.keys()):\n",
    "    sns.lineplot(y=pd.DataFrame(plot_output[metric]).mean(), x=['t5-1.0',  't5-0.75', 't5-0.5', 't5-0.333'], linestyle=\"--\", ax=ax[idx])\n",
    "    sns.violinplot(data=pd.DataFrame(plot_output[metric]), palette=\"Set3\", ax=ax[idx])\n",
    "    ax[idx].set_title(metric.capitalize())\n",
    "\n",
    "fig.savefig('/Violin Plots of T5 Models.png', bbox_inches='tight')"
   ],
   "metadata": {
    "collapsed": false,
    "pycharm": {
     "name": "#%%\n"
    }
   }
  },
  {
   "cell_type": "markdown",
   "source": [
    "## Create Heat Map w Standard Deviation for T5 Models"
   ],
   "metadata": {
    "collapsed": false
   }
  },
  {
   "cell_type": "code",
   "execution_count": null,
   "outputs": [],
   "source": [
    "t5 = ['t5-1.0',  't5-0.75', 't5-0.5', 't5-0.333']\n",
    "\n",
    "a = jaccard_emotions.loc[:,t5]\n",
    "b = jaccard_std_.loc[:,t5]\n",
    "create_heatmap(a,b,\"T5 - Jaccard Score and Hamming Loss\")\n",
    "\n",
    "a = recall_emotions.loc[:,t5]\n",
    "b = recall_std_.loc[:,t5]\n",
    "create_heatmap(a,b,\"T5 - Recall Score\")\n",
    "\n",
    "a = precision_emotions.loc[:,t5]\n",
    "b = precision_std_.loc[:,t5]\n",
    "create_heatmap(a,b,\"T5 - Precision Score\")\n",
    "\n",
    "a = f1_emotions.loc[:,t5]\n",
    "b = f1_std_.loc[:,t5]\n",
    "create_heatmap(a,b,\"T5 - F1 Score\")"
   ],
   "metadata": {
    "collapsed": false,
    "pycharm": {
     "name": "#%%\n"
    }
   }
  },
  {
   "cell_type": "markdown",
   "source": [
    "## Create Heat Map of BERT and T5 models"
   ],
   "metadata": {
    "collapsed": false
   }
  },
  {
   "cell_type": "code",
   "execution_count": null,
   "outputs": [],
   "source": [
    "model_names=['distilbert', 'bert', 'roberta', 't5-1.0']\n",
    "create_heatmap(f1_emotions.loc[:,model_names],None,'F1 Score')\n",
    "\n",
    "model_names=['distilbert', 'bert', 'roberta', 't5-1.0']\n",
    "create_heatmap(precision_emotions.loc[:,model_names],None,'Precision Score')\n",
    "\n",
    "model_names=['distilbert', 'bert', 'roberta', 't5-1.0']\n",
    "create_heatmap(recall_emotions.loc[:,model_names],None,'Recall Score')\n",
    "\n",
    "model_names=['distilbert', 'bert', 'roberta', 't5-1.0']\n",
    "create_heatmap(jaccard_emotions.loc[:,model_names],None,'Jaccard Score and Hamming Loss')"
   ],
   "metadata": {
    "collapsed": false,
    "pycharm": {
     "name": "#%%\n"
    }
   }
  },
  {
   "cell_type": "markdown",
   "source": [
    "## Create Heat Map of Best-in-Class Counts for T5 vs BERT"
   ],
   "metadata": {
    "collapsed": false,
    "pycharm": {
     "name": "#%% md\n"
    }
   }
  },
  {
   "cell_type": "code",
   "execution_count": null,
   "outputs": [],
   "source": [
    "t5 = ['distilbert', 'bert', 'roberta', 't5-1.0']\n",
    "summary={\"F1\":groupby_count(f1_emotions.loc[:,t5], t5),\n",
    "         \"Precision\":groupby_count(precision_emotions.loc[:,t5], t5),\n",
    "         \"Recall\":groupby_count(recall_emotions.loc[:,t5], t5),\n",
    "         \"Jaccard\":groupby_count(jaccard_emotions.loc[:,t5], t5)}\n",
    "create_heatmap(pd.DataFrame(summary), None, \"Count of Best-in-Class per Metric - T5 vs BERT\", fig_size=(4,4))"
   ],
   "metadata": {
    "collapsed": false,
    "pycharm": {
     "name": "#%%\n"
    }
   }
  },
  {
   "cell_type": "markdown",
   "source": [
    "## Create Heat Map of Best-in-Class Counts for T5"
   ],
   "metadata": {
    "collapsed": false
   }
  },
  {
   "cell_type": "code",
   "execution_count": null,
   "outputs": [],
   "source": [
    "t5 = ['t5-1.0',  't5-0.75', 't5-0.5', 't5-0.333']\n",
    "summary={\"F1\":groupby_count(f1_emotions.loc[:,t5], t5),\n",
    "         \"Precision\":groupby_count(precision_emotions.loc[:,t5], t5),\n",
    "         \"Recall\":groupby_count(recall_emotions.loc[:,t5], t5),\n",
    "         \"Jaccard\":groupby_count(jaccard_emotions.loc[:,t5], t5)}\n",
    "create_heatmap(pd.DataFrame(summary), None, \"Count of Best-in-Class per Metric - T5\", fig_size=(4,4))"
   ],
   "metadata": {
    "collapsed": false,
    "pycharm": {
     "name": "#%%\n"
    }
   }
  },
  {
   "cell_type": "markdown",
   "source": [
    "## Create Heat Map of Best-in-Class Counts for T5 vs RoBERTa"
   ],
   "metadata": {
    "collapsed": false
   }
  },
  {
   "cell_type": "code",
   "execution_count": null,
   "outputs": [],
   "source": [
    "t5 = ['roberta', 't5-1.0']\n",
    "summary={\"F1\":groupby_count(f1_emotions.loc[:,t5], t5),\n",
    "         \"Precision\":groupby_count(precision_emotions.loc[:,t5], t5),\n",
    "         \"Recall\":groupby_count(recall_emotions.loc[:,t5], t5),\n",
    "         \"Jaccard\":groupby_count(jaccard_emotions.loc[:,t5], t5)}\n",
    "create_heatmap(pd.DataFrame(summary), None, \"Count of Best-in-Class per Metric - T5 vs RoBERTa\", fig_size=(4,2))"
   ],
   "metadata": {
    "collapsed": false,
    "pycharm": {
     "name": "#%%\n"
    }
   }
  },
  {
   "cell_type": "markdown",
   "source": [
    "## Highest Precision and Recall Difference and TF-IDF Dot Product\n",
    "Plots the highest precision and recall score difference and their corresponding TF-IDF score (requires analysis of text to be ran)"
   ],
   "metadata": {
    "collapsed": false
   }
  },
  {
   "cell_type": "code",
   "execution_count": null,
   "outputs": [],
   "source": [
    "t5 = ['t5-1.0',  't5-0.75', 't5-0.5', 't5-0.333']\n",
    "bert = ['distilbert', 'bert', 'roberta']\n",
    "p,r = precision_emotions[t5].mean(axis=1), recall_emotions[t5].mean(axis=1)\n",
    "p_,r_ = precision_emotions.loc[:,bert].mean(axis=1), recall_emotions.loc[:,bert].mean(axis=1)\n",
    "p.name, r.name = 'Precision_T5','Recall_T5'\n",
    "p_.name ,r_.name = 'Precision_Bert','Recall_Bert'\n",
    "diff_r= r-r_\n",
    "diff_r.name = 'T5-Bert Recall'\n",
    "a = pd.concat([diff_r,pd.DataFrame(tfidf,index=['TF-IDF Dot Product']).transpose()], axis=1).where(abs(diff_r)>0.15).dropna()\n",
    "create_heatmap(a,None,\"Recall and TF-IDF\",fig_size=(5,2))\n",
    "\n",
    "diff_p= p-p_\n",
    "diff_p.name = 'T5-Bert Precision'\n",
    "b = pd.concat([diff_p,pd.DataFrame(tfidf,index=['TF-IDF Dot Product']).transpose()], axis=1).where(abs(diff_p)>0.15).dropna()\n",
    "create_heatmap(b,None,\"Precision and TF-IDF\",fig_size=(5,2))"
   ],
   "metadata": {
    "collapsed": false,
    "pycharm": {
     "name": "#%%\n"
    }
   }
  },
  {
   "cell_type": "markdown",
   "source": [
    "# Analysis on Reduced vs Full T5"
   ],
   "metadata": {
    "collapsed": false
   }
  },
  {
   "cell_type": "markdown",
   "source": [
    "## Create Heat Map of BERT and T5 models - Reduced"
   ],
   "metadata": {
    "collapsed": false
   }
  },
  {
   "cell_type": "code",
   "execution_count": null,
   "outputs": [],
   "source": [
    "model_names=['distilbert\\nreduced', 'bert\\nreduced', 'roberta\\nreduced', 't5-1.0\\nreduced']\n",
    "create_heatmap(f1_emotions.loc[:,model_names],None,'Reduced - F1 Score')"
   ],
   "metadata": {
    "collapsed": false,
    "pycharm": {
     "name": "#%%\n"
    }
   }
  },
  {
   "cell_type": "markdown",
   "source": [
    "## Create Heat Map of F1 score Full vs Reduced of T5-0.75"
   ],
   "metadata": {
    "collapsed": false
   }
  },
  {
   "cell_type": "code",
   "execution_count": null,
   "outputs": [],
   "source": [
    "t5 = ['t5-0.75','t5-0.75\\nreduced']\n",
    "emotions = ['admiration','gratitude','approval','grief','nervousness','pride','relief']\n",
    "a = f1_emotions.loc[emotions,t5]\n",
    "\n",
    "create_heatmap(a,None,\"T5-0.75 F1 Score Full vs Reduced\", fig_size=(3,15/28.*7))"
   ],
   "metadata": {
    "collapsed": false,
    "pycharm": {
     "name": "#%%\n"
    }
   }
  },
  {
   "cell_type": "markdown",
   "source": [
    "## Histogram of samples per GoEmotions label"
   ],
   "metadata": {
    "collapsed": false
   }
  },
  {
   "cell_type": "code",
   "execution_count": null,
   "outputs": [],
   "source": [
    "data = load_dataset('go_emotions')\n",
    "# val_data = T5Dataset(data['validation'], goemo_ratio=1.0)\n",
    "train,test,val = data_reduction(data['train']),data_reduction(data['test']),data_reduction(data['validation'])\n",
    "\n",
    "data_labels_all = train['labels'] + test['labels'] + val['labels']\n",
    "all_labels = list(itertools.chain.from_iterable(data_labels_all))\n",
    "_labels, _counts = np.unique(all_labels, return_counts=True)\n",
    "fig, ax = plt.subplots(constrained_layout=True)\n",
    "plt.bar(_labels, _counts, align='center')\n",
    "plt.gca().set_xticks(_labels)\n",
    "ax.set_xticklabels(label_names, horizontalalignment='right', wrap=True, rotation=45)\n",
    "plt.title(\"Reduced - Number of samples per GoEmotion label\")\n",
    "plt.show()\n",
    "fig.savefig(\"/reduced-number-of-samples-per-goemo.png\")"
   ],
   "metadata": {
    "collapsed": false,
    "pycharm": {
     "name": "#%%\n"
    }
   }
  },
  {
   "cell_type": "markdown",
   "source": [
    "## Create zip folder of all images and download"
   ],
   "metadata": {
    "collapsed": false,
    "pycharm": {
     "name": "#%% md\n"
    }
   }
  },
  {
   "cell_type": "code",
   "execution_count": null,
   "outputs": [],
   "source": [
    "from google.colab import files\n",
    "import shutil\n",
    "count=0\n",
    "if not os.path.exists('/figures'):\n",
    "    os.makedirs('/figures')\n",
    "\n",
    "for dir, folder, fnames in os.walk(\"/\"):\n",
    "    if dir==\"/\":\n",
    "        for f in fnames:\n",
    "            # print(dir+f)\n",
    "            count+=1\n",
    "            shutil.move(dir+f, \"/figures\")\n",
    "            # files.download(dir+f)\n",
    "print(count)"
   ],
   "metadata": {
    "collapsed": false,
    "pycharm": {
     "name": "#%%\n"
    }
   }
  },
  {
   "cell_type": "code",
   "execution_count": null,
   "outputs": [],
   "source": [
    "!zip -r /content/figures.zip /figures\n",
    "files.download(\"/content/figures.zip\")"
   ],
   "metadata": {
    "collapsed": false,
    "pycharm": {
     "name": "#%%\n"
    }
   }
  }
 ],
 "metadata": {
  "accelerator": "GPU",
  "colab": {
   "collapsed_sections": [
    "jRmprVbMdVje",
    "sbOJLvcgKFjo",
    "3GVbKK3jKLV3",
    "aeYdfkWlKWir",
    "1EcZ_vlHvSCh",
    "QG9sWN75_5Y0"
   ],
   "name": "MSc Project.ipynb",
   "provenance": []
  },
  "kernelspec": {
   "display_name": "Python 3",
   "language": "python",
   "name": "python3"
  },
  "language_info": {
   "codemirror_mode": {
    "name": "ipython",
    "version": 3
   },
   "file_extension": ".py",
   "mimetype": "text/x-python",
   "name": "python",
   "nbconvert_exporter": "python",
   "pygments_lexer": "ipython3",
   "version": "3.8.8"
  },
  "toc": {
   "base_numbering": 1,
   "nav_menu": {},
   "number_sections": true,
   "sideBar": true,
   "skip_h1_title": false,
   "title_cell": "Table of Contents",
   "title_sidebar": "Contents",
   "toc_cell": false,
   "toc_position": {},
   "toc_section_display": true,
   "toc_window_display": true
  },
  "varInspector": {
   "cols": {
    "lenName": 16,
    "lenType": 16,
    "lenVar": 40
   },
   "kernels_config": {
    "python": {
     "delete_cmd_postfix": "",
     "delete_cmd_prefix": "del ",
     "library": "var_list.py",
     "varRefreshCmd": "print(var_dic_list())"
    },
    "r": {
     "delete_cmd_postfix": ") ",
     "delete_cmd_prefix": "rm(",
     "library": "var_list.r",
     "varRefreshCmd": "cat(var_dic_list()) "
    }
   },
   "types_to_exclude": [
    "module",
    "function",
    "builtin_function_or_method",
    "instance",
    "_Feature"
   ],
   "window_display": false
  },
  "widgets": {
   "application/vnd.jupyter.widget-state+json": {
    "022d5659e0134cb2bc9d46fee360636b": {
     "model_module": "@jupyter-widgets/base",
     "model_module_version": "1.2.0",
     "model_name": "LayoutModel",
     "state": {
      "_model_module": "@jupyter-widgets/base",
      "_model_module_version": "1.2.0",
      "_model_name": "LayoutModel",
      "_view_count": null,
      "_view_module": "@jupyter-widgets/base",
      "_view_module_version": "1.2.0",
      "_view_name": "LayoutView",
      "align_content": null,
      "align_items": null,
      "align_self": null,
      "border": null,
      "bottom": null,
      "display": null,
      "flex": null,
      "flex_flow": null,
      "grid_area": null,
      "grid_auto_columns": null,
      "grid_auto_flow": null,
      "grid_auto_rows": null,
      "grid_column": null,
      "grid_gap": null,
      "grid_row": null,
      "grid_template_areas": null,
      "grid_template_columns": null,
      "grid_template_rows": null,
      "height": null,
      "justify_content": null,
      "justify_items": null,
      "left": null,
      "margin": null,
      "max_height": null,
      "max_width": null,
      "min_height": null,
      "min_width": null,
      "object_fit": null,
      "object_position": null,
      "order": null,
      "overflow": null,
      "overflow_x": null,
      "overflow_y": null,
      "padding": null,
      "right": null,
      "top": null,
      "visibility": null,
      "width": null
     }
    },
    "06f7785c6936426895ed81e0737a07b9": {
     "model_module": "@jupyter-widgets/controls",
     "model_module_version": "1.5.0",
     "model_name": "FloatProgressModel",
     "state": {
      "_dom_classes": [],
      "_model_module": "@jupyter-widgets/controls",
      "_model_module_version": "1.5.0",
      "_model_name": "FloatProgressModel",
      "_view_count": null,
      "_view_module": "@jupyter-widgets/controls",
      "_view_module_version": "1.5.0",
      "_view_name": "ProgressView",
      "bar_style": "danger",
      "description": "",
      "description_tooltip": null,
      "layout": "IPY_MODEL_0a3e6d16783b4166bb85e86341bc5e6b",
      "max": 5427,
      "min": 0,
      "orientation": "horizontal",
      "style": "IPY_MODEL_ae4e57492dea4a0c99f6a60ed56deb7a",
      "value": 11
     }
    },
    "07395472bc134a41897c39732f24d1aa": {
     "model_module": "@jupyter-widgets/controls",
     "model_module_version": "1.5.0",
     "model_name": "HTMLModel",
     "state": {
      "_dom_classes": [],
      "_model_module": "@jupyter-widgets/controls",
      "_model_module_version": "1.5.0",
      "_model_name": "HTMLModel",
      "_view_count": null,
      "_view_module": "@jupyter-widgets/controls",
      "_view_module_version": "1.5.0",
      "_view_name": "HTMLView",
      "description": "",
      "description_tooltip": null,
      "layout": "IPY_MODEL_3f7a375053d44937800f24191b8a308e",
      "placeholder": "​",
      "style": "IPY_MODEL_091dbf5f1f104d52b820cf3e2611e1e6",
      "value": " 340/340 [00:10&lt;00:00, 32.83it/s]"
     }
    },
    "091dbf5f1f104d52b820cf3e2611e1e6": {
     "model_module": "@jupyter-widgets/controls",
     "model_module_version": "1.5.0",
     "model_name": "DescriptionStyleModel",
     "state": {
      "_model_module": "@jupyter-widgets/controls",
      "_model_module_version": "1.5.0",
      "_model_name": "DescriptionStyleModel",
      "_view_count": null,
      "_view_module": "@jupyter-widgets/base",
      "_view_module_version": "1.2.0",
      "_view_name": "StyleView",
      "description_width": ""
     }
    },
    "0a3e6d16783b4166bb85e86341bc5e6b": {
     "model_module": "@jupyter-widgets/base",
     "model_module_version": "1.2.0",
     "model_name": "LayoutModel",
     "state": {
      "_model_module": "@jupyter-widgets/base",
      "_model_module_version": "1.2.0",
      "_model_name": "LayoutModel",
      "_view_count": null,
      "_view_module": "@jupyter-widgets/base",
      "_view_module_version": "1.2.0",
      "_view_name": "LayoutView",
      "align_content": null,
      "align_items": null,
      "align_self": null,
      "border": null,
      "bottom": null,
      "display": null,
      "flex": null,
      "flex_flow": null,
      "grid_area": null,
      "grid_auto_columns": null,
      "grid_auto_flow": null,
      "grid_auto_rows": null,
      "grid_column": null,
      "grid_gap": null,
      "grid_row": null,
      "grid_template_areas": null,
      "grid_template_columns": null,
      "grid_template_rows": null,
      "height": null,
      "justify_content": null,
      "justify_items": null,
      "left": null,
      "margin": null,
      "max_height": null,
      "max_width": null,
      "min_height": null,
      "min_width": null,
      "object_fit": null,
      "object_position": null,
      "order": null,
      "overflow": null,
      "overflow_x": null,
      "overflow_y": null,
      "padding": null,
      "right": null,
      "top": null,
      "visibility": null,
      "width": null
     }
    },
    "0a5c36941167431b9ee9f3a81958e2cd": {
     "model_module": "@jupyter-widgets/base",
     "model_module_version": "1.2.0",
     "model_name": "LayoutModel",
     "state": {
      "_model_module": "@jupyter-widgets/base",
      "_model_module_version": "1.2.0",
      "_model_name": "LayoutModel",
      "_view_count": null,
      "_view_module": "@jupyter-widgets/base",
      "_view_module_version": "1.2.0",
      "_view_name": "LayoutView",
      "align_content": null,
      "align_items": null,
      "align_self": null,
      "border": null,
      "bottom": null,
      "display": null,
      "flex": null,
      "flex_flow": null,
      "grid_area": null,
      "grid_auto_columns": null,
      "grid_auto_flow": null,
      "grid_auto_rows": null,
      "grid_column": null,
      "grid_gap": null,
      "grid_row": null,
      "grid_template_areas": null,
      "grid_template_columns": null,
      "grid_template_rows": null,
      "height": null,
      "justify_content": null,
      "justify_items": null,
      "left": null,
      "margin": null,
      "max_height": null,
      "max_width": null,
      "min_height": null,
      "min_width": null,
      "object_fit": null,
      "object_position": null,
      "order": null,
      "overflow": null,
      "overflow_x": null,
      "overflow_y": null,
      "padding": null,
      "right": null,
      "top": null,
      "visibility": null,
      "width": null
     }
    },
    "0e3e9263efdb45babad04e6376d88a5e": {
     "model_module": "@jupyter-widgets/base",
     "model_module_version": "1.2.0",
     "model_name": "LayoutModel",
     "state": {
      "_model_module": "@jupyter-widgets/base",
      "_model_module_version": "1.2.0",
      "_model_name": "LayoutModel",
      "_view_count": null,
      "_view_module": "@jupyter-widgets/base",
      "_view_module_version": "1.2.0",
      "_view_name": "LayoutView",
      "align_content": null,
      "align_items": null,
      "align_self": null,
      "border": null,
      "bottom": null,
      "display": null,
      "flex": null,
      "flex_flow": null,
      "grid_area": null,
      "grid_auto_columns": null,
      "grid_auto_flow": null,
      "grid_auto_rows": null,
      "grid_column": null,
      "grid_gap": null,
      "grid_row": null,
      "grid_template_areas": null,
      "grid_template_columns": null,
      "grid_template_rows": null,
      "height": null,
      "justify_content": null,
      "justify_items": null,
      "left": null,
      "margin": null,
      "max_height": null,
      "max_width": null,
      "min_height": null,
      "min_width": null,
      "object_fit": null,
      "object_position": null,
      "order": null,
      "overflow": null,
      "overflow_x": null,
      "overflow_y": null,
      "padding": null,
      "right": null,
      "top": null,
      "visibility": null,
      "width": null
     }
    },
    "12c88ad26b1f4e63a4bf9e2e3519b9bb": {
     "model_module": "@jupyter-widgets/controls",
     "model_module_version": "1.5.0",
     "model_name": "DescriptionStyleModel",
     "state": {
      "_model_module": "@jupyter-widgets/controls",
      "_model_module_version": "1.5.0",
      "_model_name": "DescriptionStyleModel",
      "_view_count": null,
      "_view_module": "@jupyter-widgets/base",
      "_view_module_version": "1.2.0",
      "_view_name": "StyleView",
      "description_width": ""
     }
    },
    "14351d53bf3940e09903355f4865fa63": {
     "model_module": "@jupyter-widgets/base",
     "model_module_version": "1.2.0",
     "model_name": "LayoutModel",
     "state": {
      "_model_module": "@jupyter-widgets/base",
      "_model_module_version": "1.2.0",
      "_model_name": "LayoutModel",
      "_view_count": null,
      "_view_module": "@jupyter-widgets/base",
      "_view_module_version": "1.2.0",
      "_view_name": "LayoutView",
      "align_content": null,
      "align_items": null,
      "align_self": null,
      "border": null,
      "bottom": null,
      "display": null,
      "flex": null,
      "flex_flow": null,
      "grid_area": null,
      "grid_auto_columns": null,
      "grid_auto_flow": null,
      "grid_auto_rows": null,
      "grid_column": null,
      "grid_gap": null,
      "grid_row": null,
      "grid_template_areas": null,
      "grid_template_columns": null,
      "grid_template_rows": null,
      "height": null,
      "justify_content": null,
      "justify_items": null,
      "left": null,
      "margin": null,
      "max_height": null,
      "max_width": null,
      "min_height": null,
      "min_width": null,
      "object_fit": null,
      "object_position": null,
      "order": null,
      "overflow": null,
      "overflow_x": null,
      "overflow_y": null,
      "padding": null,
      "right": null,
      "top": null,
      "visibility": null,
      "width": null
     }
    },
    "15b037ac29924e7b95c5f712e58dbc1b": {
     "model_module": "@jupyter-widgets/base",
     "model_module_version": "1.2.0",
     "model_name": "LayoutModel",
     "state": {
      "_model_module": "@jupyter-widgets/base",
      "_model_module_version": "1.2.0",
      "_model_name": "LayoutModel",
      "_view_count": null,
      "_view_module": "@jupyter-widgets/base",
      "_view_module_version": "1.2.0",
      "_view_name": "LayoutView",
      "align_content": null,
      "align_items": null,
      "align_self": null,
      "border": null,
      "bottom": null,
      "display": null,
      "flex": null,
      "flex_flow": null,
      "grid_area": null,
      "grid_auto_columns": null,
      "grid_auto_flow": null,
      "grid_auto_rows": null,
      "grid_column": null,
      "grid_gap": null,
      "grid_row": null,
      "grid_template_areas": null,
      "grid_template_columns": null,
      "grid_template_rows": null,
      "height": null,
      "justify_content": null,
      "justify_items": null,
      "left": null,
      "margin": null,
      "max_height": null,
      "max_width": null,
      "min_height": null,
      "min_width": null,
      "object_fit": null,
      "object_position": null,
      "order": null,
      "overflow": null,
      "overflow_x": null,
      "overflow_y": null,
      "padding": null,
      "right": null,
      "top": null,
      "visibility": null,
      "width": null
     }
    },
    "1662528a75f64c35906b6848155b930a": {
     "model_module": "@jupyter-widgets/controls",
     "model_module_version": "1.5.0",
     "model_name": "ProgressStyleModel",
     "state": {
      "_model_module": "@jupyter-widgets/controls",
      "_model_module_version": "1.5.0",
      "_model_name": "ProgressStyleModel",
      "_view_count": null,
      "_view_module": "@jupyter-widgets/base",
      "_view_module_version": "1.2.0",
      "_view_name": "StyleView",
      "bar_color": null,
      "description_width": ""
     }
    },
    "1681db4d9af94b24bc8b1fb3061e5faa": {
     "model_module": "@jupyter-widgets/controls",
     "model_module_version": "1.5.0",
     "model_name": "HBoxModel",
     "state": {
      "_dom_classes": [],
      "_model_module": "@jupyter-widgets/controls",
      "_model_module_version": "1.5.0",
      "_model_name": "HBoxModel",
      "_view_count": null,
      "_view_module": "@jupyter-widgets/controls",
      "_view_module_version": "1.5.0",
      "_view_name": "HBoxView",
      "box_style": "",
      "children": [
       "IPY_MODEL_97ac28cce3e7450d91ad8b37eea00c56",
       "IPY_MODEL_359023742cf24c7b948303ae9cce6a59",
       "IPY_MODEL_85e68d707b0c463a982aed6521cce0f2"
      ],
      "layout": "IPY_MODEL_022d5659e0134cb2bc9d46fee360636b"
     }
    },
    "1943923c11b74dcb9f192f6bf09ad07e": {
     "model_module": "@jupyter-widgets/controls",
     "model_module_version": "1.5.0",
     "model_name": "HBoxModel",
     "state": {
      "_dom_classes": [],
      "_model_module": "@jupyter-widgets/controls",
      "_model_module_version": "1.5.0",
      "_model_name": "HBoxModel",
      "_view_count": null,
      "_view_module": "@jupyter-widgets/controls",
      "_view_module_version": "1.5.0",
      "_view_name": "HBoxView",
      "box_style": "",
      "children": [
       "IPY_MODEL_b29ce58a1288480c8dffe45d152280e0",
       "IPY_MODEL_d777e54a7e5144d9969d9ffda6e3f404",
       "IPY_MODEL_e7458124f59e4ce5955201531aae24dc"
      ],
      "layout": "IPY_MODEL_74837e8bf37c4ea492f2ce313aa3f819"
     }
    },
    "1c46321d82db4f6181af821f8ca743fb": {
     "model_module": "@jupyter-widgets/controls",
     "model_module_version": "1.5.0",
     "model_name": "HTMLModel",
     "state": {
      "_dom_classes": [],
      "_model_module": "@jupyter-widgets/controls",
      "_model_module_version": "1.5.0",
      "_model_name": "HTMLModel",
      "_view_count": null,
      "_view_module": "@jupyter-widgets/controls",
      "_view_module_version": "1.5.0",
      "_view_name": "HTMLView",
      "description": "",
      "description_tooltip": null,
      "layout": "IPY_MODEL_6e86853d269b432fa9c346777c421c7a",
      "placeholder": "​",
      "style": "IPY_MODEL_acae989236c1487082867f92ca08fdbc",
      "value": "  0%"
     }
    },
    "2016e246a0db43829d55c14154fa483d": {
     "model_module": "@jupyter-widgets/base",
     "model_module_version": "1.2.0",
     "model_name": "LayoutModel",
     "state": {
      "_model_module": "@jupyter-widgets/base",
      "_model_module_version": "1.2.0",
      "_model_name": "LayoutModel",
      "_view_count": null,
      "_view_module": "@jupyter-widgets/base",
      "_view_module_version": "1.2.0",
      "_view_name": "LayoutView",
      "align_content": null,
      "align_items": null,
      "align_self": null,
      "border": null,
      "bottom": null,
      "display": null,
      "flex": null,
      "flex_flow": null,
      "grid_area": null,
      "grid_auto_columns": null,
      "grid_auto_flow": null,
      "grid_auto_rows": null,
      "grid_column": null,
      "grid_gap": null,
      "grid_row": null,
      "grid_template_areas": null,
      "grid_template_columns": null,
      "grid_template_rows": null,
      "height": null,
      "justify_content": null,
      "justify_items": null,
      "left": null,
      "margin": null,
      "max_height": null,
      "max_width": null,
      "min_height": null,
      "min_width": null,
      "object_fit": null,
      "object_position": null,
      "order": null,
      "overflow": null,
      "overflow_x": null,
      "overflow_y": null,
      "padding": null,
      "right": null,
      "top": null,
      "visibility": null,
      "width": null
     }
    },
    "23c536e67a6d4a43a0476fd4c56c7fc9": {
     "model_module": "@jupyter-widgets/base",
     "model_module_version": "1.2.0",
     "model_name": "LayoutModel",
     "state": {
      "_model_module": "@jupyter-widgets/base",
      "_model_module_version": "1.2.0",
      "_model_name": "LayoutModel",
      "_view_count": null,
      "_view_module": "@jupyter-widgets/base",
      "_view_module_version": "1.2.0",
      "_view_name": "LayoutView",
      "align_content": null,
      "align_items": null,
      "align_self": null,
      "border": null,
      "bottom": null,
      "display": null,
      "flex": null,
      "flex_flow": null,
      "grid_area": null,
      "grid_auto_columns": null,
      "grid_auto_flow": null,
      "grid_auto_rows": null,
      "grid_column": null,
      "grid_gap": null,
      "grid_row": null,
      "grid_template_areas": null,
      "grid_template_columns": null,
      "grid_template_rows": null,
      "height": null,
      "justify_content": null,
      "justify_items": null,
      "left": null,
      "margin": null,
      "max_height": null,
      "max_width": null,
      "min_height": null,
      "min_width": null,
      "object_fit": null,
      "object_position": null,
      "order": null,
      "overflow": null,
      "overflow_x": null,
      "overflow_y": null,
      "padding": null,
      "right": null,
      "top": null,
      "visibility": null,
      "width": null
     }
    },
    "298375a871824013a416d13e850d8a60": {
     "model_module": "@jupyter-widgets/controls",
     "model_module_version": "1.5.0",
     "model_name": "DescriptionStyleModel",
     "state": {
      "_model_module": "@jupyter-widgets/controls",
      "_model_module_version": "1.5.0",
      "_model_name": "DescriptionStyleModel",
      "_view_count": null,
      "_view_module": "@jupyter-widgets/base",
      "_view_module_version": "1.2.0",
      "_view_name": "StyleView",
      "description_width": ""
     }
    },
    "2b7e19d123cd49e584a5fc134634446a": {
     "model_module": "@jupyter-widgets/base",
     "model_module_version": "1.2.0",
     "model_name": "LayoutModel",
     "state": {
      "_model_module": "@jupyter-widgets/base",
      "_model_module_version": "1.2.0",
      "_model_name": "LayoutModel",
      "_view_count": null,
      "_view_module": "@jupyter-widgets/base",
      "_view_module_version": "1.2.0",
      "_view_name": "LayoutView",
      "align_content": null,
      "align_items": null,
      "align_self": null,
      "border": null,
      "bottom": null,
      "display": null,
      "flex": null,
      "flex_flow": null,
      "grid_area": null,
      "grid_auto_columns": null,
      "grid_auto_flow": null,
      "grid_auto_rows": null,
      "grid_column": null,
      "grid_gap": null,
      "grid_row": null,
      "grid_template_areas": null,
      "grid_template_columns": null,
      "grid_template_rows": null,
      "height": null,
      "justify_content": null,
      "justify_items": null,
      "left": null,
      "margin": null,
      "max_height": null,
      "max_width": null,
      "min_height": null,
      "min_width": null,
      "object_fit": null,
      "object_position": null,
      "order": null,
      "overflow": null,
      "overflow_x": null,
      "overflow_y": null,
      "padding": null,
      "right": null,
      "top": null,
      "visibility": null,
      "width": null
     }
    },
    "2bf9fdee980548e3be90fd4cb7c239f2": {
     "model_module": "@jupyter-widgets/controls",
     "model_module_version": "1.5.0",
     "model_name": "FloatProgressModel",
     "state": {
      "_dom_classes": [],
      "_model_module": "@jupyter-widgets/controls",
      "_model_module_version": "1.5.0",
      "_model_name": "FloatProgressModel",
      "_view_count": null,
      "_view_module": "@jupyter-widgets/controls",
      "_view_module_version": "1.5.0",
      "_view_name": "ProgressView",
      "bar_style": "danger",
      "description": "",
      "description_tooltip": null,
      "layout": "IPY_MODEL_0e3e9263efdb45babad04e6376d88a5e",
      "max": 5427,
      "min": 0,
      "orientation": "horizontal",
      "style": "IPY_MODEL_4a9d5b735dde4820b044770e962a7ccb",
      "value": 11
     }
    },
    "2d702c31aeeb49fea9c5d41998137cb7": {
     "model_module": "@jupyter-widgets/controls",
     "model_module_version": "1.5.0",
     "model_name": "DescriptionStyleModel",
     "state": {
      "_model_module": "@jupyter-widgets/controls",
      "_model_module_version": "1.5.0",
      "_model_name": "DescriptionStyleModel",
      "_view_count": null,
      "_view_module": "@jupyter-widgets/base",
      "_view_module_version": "1.2.0",
      "_view_name": "StyleView",
      "description_width": ""
     }
    },
    "32d0a7897a4e4f6d856d1a11ab31bee7": {
     "model_module": "@jupyter-widgets/controls",
     "model_module_version": "1.5.0",
     "model_name": "DescriptionStyleModel",
     "state": {
      "_model_module": "@jupyter-widgets/controls",
      "_model_module_version": "1.5.0",
      "_model_name": "DescriptionStyleModel",
      "_view_count": null,
      "_view_module": "@jupyter-widgets/base",
      "_view_module_version": "1.2.0",
      "_view_name": "StyleView",
      "description_width": ""
     }
    },
    "350b8256a3a84e70a342100c0eab48b4": {
     "model_module": "@jupyter-widgets/controls",
     "model_module_version": "1.5.0",
     "model_name": "ProgressStyleModel",
     "state": {
      "_model_module": "@jupyter-widgets/controls",
      "_model_module_version": "1.5.0",
      "_model_name": "ProgressStyleModel",
      "_view_count": null,
      "_view_module": "@jupyter-widgets/base",
      "_view_module_version": "1.2.0",
      "_view_name": "StyleView",
      "bar_color": null,
      "description_width": ""
     }
    },
    "359023742cf24c7b948303ae9cce6a59": {
     "model_module": "@jupyter-widgets/controls",
     "model_module_version": "1.5.0",
     "model_name": "FloatProgressModel",
     "state": {
      "_dom_classes": [],
      "_model_module": "@jupyter-widgets/controls",
      "_model_module_version": "1.5.0",
      "_model_name": "FloatProgressModel",
      "_view_count": null,
      "_view_module": "@jupyter-widgets/controls",
      "_view_module_version": "1.5.0",
      "_view_name": "ProgressView",
      "bar_style": "success",
      "description": "",
      "description_tooltip": null,
      "layout": "IPY_MODEL_14351d53bf3940e09903355f4865fa63",
      "max": 340,
      "min": 0,
      "orientation": "horizontal",
      "style": "IPY_MODEL_85fc46186ab54623b1f64b040f6dab62",
      "value": 340
     }
    },
    "3ad15751330741c1b27d1df3df89027a": {
     "model_module": "@jupyter-widgets/base",
     "model_module_version": "1.2.0",
     "model_name": "LayoutModel",
     "state": {
      "_model_module": "@jupyter-widgets/base",
      "_model_module_version": "1.2.0",
      "_model_name": "LayoutModel",
      "_view_count": null,
      "_view_module": "@jupyter-widgets/base",
      "_view_module_version": "1.2.0",
      "_view_name": "LayoutView",
      "align_content": null,
      "align_items": null,
      "align_self": null,
      "border": null,
      "bottom": null,
      "display": null,
      "flex": null,
      "flex_flow": null,
      "grid_area": null,
      "grid_auto_columns": null,
      "grid_auto_flow": null,
      "grid_auto_rows": null,
      "grid_column": null,
      "grid_gap": null,
      "grid_row": null,
      "grid_template_areas": null,
      "grid_template_columns": null,
      "grid_template_rows": null,
      "height": null,
      "justify_content": null,
      "justify_items": null,
      "left": null,
      "margin": null,
      "max_height": null,
      "max_width": null,
      "min_height": null,
      "min_width": null,
      "object_fit": null,
      "object_position": null,
      "order": null,
      "overflow": null,
      "overflow_x": null,
      "overflow_y": null,
      "padding": null,
      "right": null,
      "top": null,
      "visibility": null,
      "width": null
     }
    },
    "3f7a375053d44937800f24191b8a308e": {
     "model_module": "@jupyter-widgets/base",
     "model_module_version": "1.2.0",
     "model_name": "LayoutModel",
     "state": {
      "_model_module": "@jupyter-widgets/base",
      "_model_module_version": "1.2.0",
      "_model_name": "LayoutModel",
      "_view_count": null,
      "_view_module": "@jupyter-widgets/base",
      "_view_module_version": "1.2.0",
      "_view_name": "LayoutView",
      "align_content": null,
      "align_items": null,
      "align_self": null,
      "border": null,
      "bottom": null,
      "display": null,
      "flex": null,
      "flex_flow": null,
      "grid_area": null,
      "grid_auto_columns": null,
      "grid_auto_flow": null,
      "grid_auto_rows": null,
      "grid_column": null,
      "grid_gap": null,
      "grid_row": null,
      "grid_template_areas": null,
      "grid_template_columns": null,
      "grid_template_rows": null,
      "height": null,
      "justify_content": null,
      "justify_items": null,
      "left": null,
      "margin": null,
      "max_height": null,
      "max_width": null,
      "min_height": null,
      "min_width": null,
      "object_fit": null,
      "object_position": null,
      "order": null,
      "overflow": null,
      "overflow_x": null,
      "overflow_y": null,
      "padding": null,
      "right": null,
      "top": null,
      "visibility": null,
      "width": null
     }
    },
    "43df08a0d59840eea575f3ed101c8384": {
     "model_module": "@jupyter-widgets/controls",
     "model_module_version": "1.5.0",
     "model_name": "DescriptionStyleModel",
     "state": {
      "_model_module": "@jupyter-widgets/controls",
      "_model_module_version": "1.5.0",
      "_model_name": "DescriptionStyleModel",
      "_view_count": null,
      "_view_module": "@jupyter-widgets/base",
      "_view_module_version": "1.2.0",
      "_view_name": "StyleView",
      "description_width": ""
     }
    },
    "4956dc64d05247b5b888db3683a83e92": {
     "model_module": "@jupyter-widgets/controls",
     "model_module_version": "1.5.0",
     "model_name": "FloatProgressModel",
     "state": {
      "_dom_classes": [],
      "_model_module": "@jupyter-widgets/controls",
      "_model_module_version": "1.5.0",
      "_model_name": "FloatProgressModel",
      "_view_count": null,
      "_view_module": "@jupyter-widgets/controls",
      "_view_module_version": "1.5.0",
      "_view_name": "ProgressView",
      "bar_style": "success",
      "description": "",
      "description_tooltip": null,
      "layout": "IPY_MODEL_ba87f1019711451bb392da1a0fc4344e",
      "max": 340,
      "min": 0,
      "orientation": "horizontal",
      "style": "IPY_MODEL_350b8256a3a84e70a342100c0eab48b4",
      "value": 340
     }
    },
    "4a35b9a0fa664df58765285c0ad6ddaa": {
     "model_module": "@jupyter-widgets/base",
     "model_module_version": "1.2.0",
     "model_name": "LayoutModel",
     "state": {
      "_model_module": "@jupyter-widgets/base",
      "_model_module_version": "1.2.0",
      "_model_name": "LayoutModel",
      "_view_count": null,
      "_view_module": "@jupyter-widgets/base",
      "_view_module_version": "1.2.0",
      "_view_name": "LayoutView",
      "align_content": null,
      "align_items": null,
      "align_self": null,
      "border": null,
      "bottom": null,
      "display": null,
      "flex": null,
      "flex_flow": null,
      "grid_area": null,
      "grid_auto_columns": null,
      "grid_auto_flow": null,
      "grid_auto_rows": null,
      "grid_column": null,
      "grid_gap": null,
      "grid_row": null,
      "grid_template_areas": null,
      "grid_template_columns": null,
      "grid_template_rows": null,
      "height": null,
      "justify_content": null,
      "justify_items": null,
      "left": null,
      "margin": null,
      "max_height": null,
      "max_width": null,
      "min_height": null,
      "min_width": null,
      "object_fit": null,
      "object_position": null,
      "order": null,
      "overflow": null,
      "overflow_x": null,
      "overflow_y": null,
      "padding": null,
      "right": null,
      "top": null,
      "visibility": null,
      "width": null
     }
    },
    "4a9d5b735dde4820b044770e962a7ccb": {
     "model_module": "@jupyter-widgets/controls",
     "model_module_version": "1.5.0",
     "model_name": "ProgressStyleModel",
     "state": {
      "_model_module": "@jupyter-widgets/controls",
      "_model_module_version": "1.5.0",
      "_model_name": "ProgressStyleModel",
      "_view_count": null,
      "_view_module": "@jupyter-widgets/base",
      "_view_module_version": "1.2.0",
      "_view_name": "StyleView",
      "bar_color": null,
      "description_width": ""
     }
    },
    "5df3830a0a3f427296772f1d9c49976f": {
     "model_module": "@jupyter-widgets/controls",
     "model_module_version": "1.5.0",
     "model_name": "HBoxModel",
     "state": {
      "_dom_classes": [],
      "_model_module": "@jupyter-widgets/controls",
      "_model_module_version": "1.5.0",
      "_model_name": "HBoxModel",
      "_view_count": null,
      "_view_module": "@jupyter-widgets/controls",
      "_view_module_version": "1.5.0",
      "_view_name": "HBoxView",
      "box_style": "",
      "children": [
       "IPY_MODEL_a37c29b74b9340b3a7d5f2864731e6aa",
       "IPY_MODEL_06f7785c6936426895ed81e0737a07b9",
       "IPY_MODEL_cfebff696d0044128b196df375b9add3"
      ],
      "layout": "IPY_MODEL_15b037ac29924e7b95c5f712e58dbc1b"
     }
    },
    "6e86853d269b432fa9c346777c421c7a": {
     "model_module": "@jupyter-widgets/base",
     "model_module_version": "1.2.0",
     "model_name": "LayoutModel",
     "state": {
      "_model_module": "@jupyter-widgets/base",
      "_model_module_version": "1.2.0",
      "_model_name": "LayoutModel",
      "_view_count": null,
      "_view_module": "@jupyter-widgets/base",
      "_view_module_version": "1.2.0",
      "_view_name": "LayoutView",
      "align_content": null,
      "align_items": null,
      "align_self": null,
      "border": null,
      "bottom": null,
      "display": null,
      "flex": null,
      "flex_flow": null,
      "grid_area": null,
      "grid_auto_columns": null,
      "grid_auto_flow": null,
      "grid_auto_rows": null,
      "grid_column": null,
      "grid_gap": null,
      "grid_row": null,
      "grid_template_areas": null,
      "grid_template_columns": null,
      "grid_template_rows": null,
      "height": null,
      "justify_content": null,
      "justify_items": null,
      "left": null,
      "margin": null,
      "max_height": null,
      "max_width": null,
      "min_height": null,
      "min_width": null,
      "object_fit": null,
      "object_position": null,
      "order": null,
      "overflow": null,
      "overflow_x": null,
      "overflow_y": null,
      "padding": null,
      "right": null,
      "top": null,
      "visibility": null,
      "width": null
     }
    },
    "73c5bf609a1d48fda88387f54791cdc2": {
     "model_module": "@jupyter-widgets/controls",
     "model_module_version": "1.5.0",
     "model_name": "HTMLModel",
     "state": {
      "_dom_classes": [],
      "_model_module": "@jupyter-widgets/controls",
      "_model_module_version": "1.5.0",
      "_model_name": "HTMLModel",
      "_view_count": null,
      "_view_module": "@jupyter-widgets/controls",
      "_view_module_version": "1.5.0",
      "_view_name": "HTMLView",
      "description": "",
      "description_tooltip": null,
      "layout": "IPY_MODEL_db946e09845849398f77bd3501c89747",
      "placeholder": "​",
      "style": "IPY_MODEL_43df08a0d59840eea575f3ed101c8384",
      "value": " 11/5427 [00:01&lt;13:45,  6.56it/s]"
     }
    },
    "74837e8bf37c4ea492f2ce313aa3f819": {
     "model_module": "@jupyter-widgets/base",
     "model_module_version": "1.2.0",
     "model_name": "LayoutModel",
     "state": {
      "_model_module": "@jupyter-widgets/base",
      "_model_module_version": "1.2.0",
      "_model_name": "LayoutModel",
      "_view_count": null,
      "_view_module": "@jupyter-widgets/base",
      "_view_module_version": "1.2.0",
      "_view_name": "LayoutView",
      "align_content": null,
      "align_items": null,
      "align_self": null,
      "border": null,
      "bottom": null,
      "display": null,
      "flex": null,
      "flex_flow": null,
      "grid_area": null,
      "grid_auto_columns": null,
      "grid_auto_flow": null,
      "grid_auto_rows": null,
      "grid_column": null,
      "grid_gap": null,
      "grid_row": null,
      "grid_template_areas": null,
      "grid_template_columns": null,
      "grid_template_rows": null,
      "height": null,
      "justify_content": null,
      "justify_items": null,
      "left": null,
      "margin": null,
      "max_height": null,
      "max_width": null,
      "min_height": null,
      "min_width": null,
      "object_fit": null,
      "object_position": null,
      "order": null,
      "overflow": null,
      "overflow_x": null,
      "overflow_y": null,
      "padding": null,
      "right": null,
      "top": null,
      "visibility": null,
      "width": null
     }
    },
    "797707287d884d539a43df93374cf6f4": {
     "model_module": "@jupyter-widgets/controls",
     "model_module_version": "1.5.0",
     "model_name": "DescriptionStyleModel",
     "state": {
      "_model_module": "@jupyter-widgets/controls",
      "_model_module_version": "1.5.0",
      "_model_name": "DescriptionStyleModel",
      "_view_count": null,
      "_view_module": "@jupyter-widgets/base",
      "_view_module_version": "1.2.0",
      "_view_name": "StyleView",
      "description_width": ""
     }
    },
    "7bfc5f8247bf451f9e26e46659c826bc": {
     "model_module": "@jupyter-widgets/controls",
     "model_module_version": "1.5.0",
     "model_name": "DescriptionStyleModel",
     "state": {
      "_model_module": "@jupyter-widgets/controls",
      "_model_module_version": "1.5.0",
      "_model_name": "DescriptionStyleModel",
      "_view_count": null,
      "_view_module": "@jupyter-widgets/base",
      "_view_module_version": "1.2.0",
      "_view_name": "StyleView",
      "description_width": ""
     }
    },
    "7c147a02bbac495cb91ca97e82d99a45": {
     "model_module": "@jupyter-widgets/controls",
     "model_module_version": "1.5.0",
     "model_name": "HTMLModel",
     "state": {
      "_dom_classes": [],
      "_model_module": "@jupyter-widgets/controls",
      "_model_module_version": "1.5.0",
      "_model_name": "HTMLModel",
      "_view_count": null,
      "_view_module": "@jupyter-widgets/controls",
      "_view_module_version": "1.5.0",
      "_view_name": "HTMLView",
      "description": "",
      "description_tooltip": null,
      "layout": "IPY_MODEL_9f692ec129d44ac4baf228a8b2e415fb",
      "placeholder": "​",
      "style": "IPY_MODEL_a2db179e634e4d72b55a6bd3a54f2134",
      "value": "100%"
     }
    },
    "85b5237604744bf4813c61100dcb2778": {
     "model_module": "@jupyter-widgets/controls",
     "model_module_version": "1.5.0",
     "model_name": "HTMLModel",
     "state": {
      "_dom_classes": [],
      "_model_module": "@jupyter-widgets/controls",
      "_model_module_version": "1.5.0",
      "_model_name": "HTMLModel",
      "_view_count": null,
      "_view_module": "@jupyter-widgets/controls",
      "_view_module_version": "1.5.0",
      "_view_name": "HTMLView",
      "description": "",
      "description_tooltip": null,
      "layout": "IPY_MODEL_9d977879f22c4a6c8f19511a66e42c87",
      "placeholder": "​",
      "style": "IPY_MODEL_7bfc5f8247bf451f9e26e46659c826bc",
      "value": "  0%"
     }
    },
    "85e68d707b0c463a982aed6521cce0f2": {
     "model_module": "@jupyter-widgets/controls",
     "model_module_version": "1.5.0",
     "model_name": "HTMLModel",
     "state": {
      "_dom_classes": [],
      "_model_module": "@jupyter-widgets/controls",
      "_model_module_version": "1.5.0",
      "_model_name": "HTMLModel",
      "_view_count": null,
      "_view_module": "@jupyter-widgets/controls",
      "_view_module_version": "1.5.0",
      "_view_name": "HTMLView",
      "description": "",
      "description_tooltip": null,
      "layout": "IPY_MODEL_b21beacc98ff4fe1b5fcecdc591f5758",
      "placeholder": "​",
      "style": "IPY_MODEL_bf4e50ea0e604d158f7a98b369c2e054",
      "value": " 340/340 [00:20&lt;00:00, 16.38it/s]"
     }
    },
    "85fc46186ab54623b1f64b040f6dab62": {
     "model_module": "@jupyter-widgets/controls",
     "model_module_version": "1.5.0",
     "model_name": "ProgressStyleModel",
     "state": {
      "_model_module": "@jupyter-widgets/controls",
      "_model_module_version": "1.5.0",
      "_model_name": "ProgressStyleModel",
      "_view_count": null,
      "_view_module": "@jupyter-widgets/base",
      "_view_module_version": "1.2.0",
      "_view_name": "StyleView",
      "bar_color": null,
      "description_width": ""
     }
    },
    "8c3cc66fcf4d4414a9e5fc5904a56ecd": {
     "model_module": "@jupyter-widgets/base",
     "model_module_version": "1.2.0",
     "model_name": "LayoutModel",
     "state": {
      "_model_module": "@jupyter-widgets/base",
      "_model_module_version": "1.2.0",
      "_model_name": "LayoutModel",
      "_view_count": null,
      "_view_module": "@jupyter-widgets/base",
      "_view_module_version": "1.2.0",
      "_view_name": "LayoutView",
      "align_content": null,
      "align_items": null,
      "align_self": null,
      "border": null,
      "bottom": null,
      "display": null,
      "flex": null,
      "flex_flow": null,
      "grid_area": null,
      "grid_auto_columns": null,
      "grid_auto_flow": null,
      "grid_auto_rows": null,
      "grid_column": null,
      "grid_gap": null,
      "grid_row": null,
      "grid_template_areas": null,
      "grid_template_columns": null,
      "grid_template_rows": null,
      "height": null,
      "justify_content": null,
      "justify_items": null,
      "left": null,
      "margin": null,
      "max_height": null,
      "max_width": null,
      "min_height": null,
      "min_width": null,
      "object_fit": null,
      "object_position": null,
      "order": null,
      "overflow": null,
      "overflow_x": null,
      "overflow_y": null,
      "padding": null,
      "right": null,
      "top": null,
      "visibility": null,
      "width": null
     }
    },
    "90edddfc85cd4a84ae45723f40f974ee": {
     "model_module": "@jupyter-widgets/base",
     "model_module_version": "1.2.0",
     "model_name": "LayoutModel",
     "state": {
      "_model_module": "@jupyter-widgets/base",
      "_model_module_version": "1.2.0",
      "_model_name": "LayoutModel",
      "_view_count": null,
      "_view_module": "@jupyter-widgets/base",
      "_view_module_version": "1.2.0",
      "_view_name": "LayoutView",
      "align_content": null,
      "align_items": null,
      "align_self": null,
      "border": null,
      "bottom": null,
      "display": null,
      "flex": null,
      "flex_flow": null,
      "grid_area": null,
      "grid_auto_columns": null,
      "grid_auto_flow": null,
      "grid_auto_rows": null,
      "grid_column": null,
      "grid_gap": null,
      "grid_row": null,
      "grid_template_areas": null,
      "grid_template_columns": null,
      "grid_template_rows": null,
      "height": null,
      "justify_content": null,
      "justify_items": null,
      "left": null,
      "margin": null,
      "max_height": null,
      "max_width": null,
      "min_height": null,
      "min_width": null,
      "object_fit": null,
      "object_position": null,
      "order": null,
      "overflow": null,
      "overflow_x": null,
      "overflow_y": null,
      "padding": null,
      "right": null,
      "top": null,
      "visibility": null,
      "width": null
     }
    },
    "97ac28cce3e7450d91ad8b37eea00c56": {
     "model_module": "@jupyter-widgets/controls",
     "model_module_version": "1.5.0",
     "model_name": "HTMLModel",
     "state": {
      "_dom_classes": [],
      "_model_module": "@jupyter-widgets/controls",
      "_model_module_version": "1.5.0",
      "_model_name": "HTMLModel",
      "_view_count": null,
      "_view_module": "@jupyter-widgets/controls",
      "_view_module_version": "1.5.0",
      "_view_name": "HTMLView",
      "description": "",
      "description_tooltip": null,
      "layout": "IPY_MODEL_8c3cc66fcf4d4414a9e5fc5904a56ecd",
      "placeholder": "​",
      "style": "IPY_MODEL_12c88ad26b1f4e63a4bf9e2e3519b9bb",
      "value": "100%"
     }
    },
    "9d977879f22c4a6c8f19511a66e42c87": {
     "model_module": "@jupyter-widgets/base",
     "model_module_version": "1.2.0",
     "model_name": "LayoutModel",
     "state": {
      "_model_module": "@jupyter-widgets/base",
      "_model_module_version": "1.2.0",
      "_model_name": "LayoutModel",
      "_view_count": null,
      "_view_module": "@jupyter-widgets/base",
      "_view_module_version": "1.2.0",
      "_view_name": "LayoutView",
      "align_content": null,
      "align_items": null,
      "align_self": null,
      "border": null,
      "bottom": null,
      "display": null,
      "flex": null,
      "flex_flow": null,
      "grid_area": null,
      "grid_auto_columns": null,
      "grid_auto_flow": null,
      "grid_auto_rows": null,
      "grid_column": null,
      "grid_gap": null,
      "grid_row": null,
      "grid_template_areas": null,
      "grid_template_columns": null,
      "grid_template_rows": null,
      "height": null,
      "justify_content": null,
      "justify_items": null,
      "left": null,
      "margin": null,
      "max_height": null,
      "max_width": null,
      "min_height": null,
      "min_width": null,
      "object_fit": null,
      "object_position": null,
      "order": null,
      "overflow": null,
      "overflow_x": null,
      "overflow_y": null,
      "padding": null,
      "right": null,
      "top": null,
      "visibility": null,
      "width": null
     }
    },
    "9f692ec129d44ac4baf228a8b2e415fb": {
     "model_module": "@jupyter-widgets/base",
     "model_module_version": "1.2.0",
     "model_name": "LayoutModel",
     "state": {
      "_model_module": "@jupyter-widgets/base",
      "_model_module_version": "1.2.0",
      "_model_name": "LayoutModel",
      "_view_count": null,
      "_view_module": "@jupyter-widgets/base",
      "_view_module_version": "1.2.0",
      "_view_name": "LayoutView",
      "align_content": null,
      "align_items": null,
      "align_self": null,
      "border": null,
      "bottom": null,
      "display": null,
      "flex": null,
      "flex_flow": null,
      "grid_area": null,
      "grid_auto_columns": null,
      "grid_auto_flow": null,
      "grid_auto_rows": null,
      "grid_column": null,
      "grid_gap": null,
      "grid_row": null,
      "grid_template_areas": null,
      "grid_template_columns": null,
      "grid_template_rows": null,
      "height": null,
      "justify_content": null,
      "justify_items": null,
      "left": null,
      "margin": null,
      "max_height": null,
      "max_width": null,
      "min_height": null,
      "min_width": null,
      "object_fit": null,
      "object_position": null,
      "order": null,
      "overflow": null,
      "overflow_x": null,
      "overflow_y": null,
      "padding": null,
      "right": null,
      "top": null,
      "visibility": null,
      "width": null
     }
    },
    "9f6c3c6046bf4dbbbefdff4000d3a66a": {
     "model_module": "@jupyter-widgets/base",
     "model_module_version": "1.2.0",
     "model_name": "LayoutModel",
     "state": {
      "_model_module": "@jupyter-widgets/base",
      "_model_module_version": "1.2.0",
      "_model_name": "LayoutModel",
      "_view_count": null,
      "_view_module": "@jupyter-widgets/base",
      "_view_module_version": "1.2.0",
      "_view_name": "LayoutView",
      "align_content": null,
      "align_items": null,
      "align_self": null,
      "border": null,
      "bottom": null,
      "display": null,
      "flex": null,
      "flex_flow": null,
      "grid_area": null,
      "grid_auto_columns": null,
      "grid_auto_flow": null,
      "grid_auto_rows": null,
      "grid_column": null,
      "grid_gap": null,
      "grid_row": null,
      "grid_template_areas": null,
      "grid_template_columns": null,
      "grid_template_rows": null,
      "height": null,
      "justify_content": null,
      "justify_items": null,
      "left": null,
      "margin": null,
      "max_height": null,
      "max_width": null,
      "min_height": null,
      "min_width": null,
      "object_fit": null,
      "object_position": null,
      "order": null,
      "overflow": null,
      "overflow_x": null,
      "overflow_y": null,
      "padding": null,
      "right": null,
      "top": null,
      "visibility": null,
      "width": null
     }
    },
    "a1395daa614545f481ab29d87d398a3c": {
     "model_module": "@jupyter-widgets/controls",
     "model_module_version": "1.5.0",
     "model_name": "DescriptionStyleModel",
     "state": {
      "_model_module": "@jupyter-widgets/controls",
      "_model_module_version": "1.5.0",
      "_model_name": "DescriptionStyleModel",
      "_view_count": null,
      "_view_module": "@jupyter-widgets/base",
      "_view_module_version": "1.2.0",
      "_view_name": "StyleView",
      "description_width": ""
     }
    },
    "a2db179e634e4d72b55a6bd3a54f2134": {
     "model_module": "@jupyter-widgets/controls",
     "model_module_version": "1.5.0",
     "model_name": "DescriptionStyleModel",
     "state": {
      "_model_module": "@jupyter-widgets/controls",
      "_model_module_version": "1.5.0",
      "_model_name": "DescriptionStyleModel",
      "_view_count": null,
      "_view_module": "@jupyter-widgets/base",
      "_view_module_version": "1.2.0",
      "_view_name": "StyleView",
      "description_width": ""
     }
    },
    "a37c29b74b9340b3a7d5f2864731e6aa": {
     "model_module": "@jupyter-widgets/controls",
     "model_module_version": "1.5.0",
     "model_name": "HTMLModel",
     "state": {
      "_dom_classes": [],
      "_model_module": "@jupyter-widgets/controls",
      "_model_module_version": "1.5.0",
      "_model_name": "HTMLModel",
      "_view_count": null,
      "_view_module": "@jupyter-widgets/controls",
      "_view_module_version": "1.5.0",
      "_view_name": "HTMLView",
      "description": "",
      "description_tooltip": null,
      "layout": "IPY_MODEL_2b7e19d123cd49e584a5fc134634446a",
      "placeholder": "​",
      "style": "IPY_MODEL_2d702c31aeeb49fea9c5d41998137cb7",
      "value": "  0%"
     }
    },
    "a39b6c7ecf444042bcae3865a1a4dc1b": {
     "model_module": "@jupyter-widgets/controls",
     "model_module_version": "1.5.0",
     "model_name": "HBoxModel",
     "state": {
      "_dom_classes": [],
      "_model_module": "@jupyter-widgets/controls",
      "_model_module_version": "1.5.0",
      "_model_name": "HBoxModel",
      "_view_count": null,
      "_view_module": "@jupyter-widgets/controls",
      "_view_module_version": "1.5.0",
      "_view_name": "HBoxView",
      "box_style": "",
      "children": [
       "IPY_MODEL_7c147a02bbac495cb91ca97e82d99a45",
       "IPY_MODEL_4956dc64d05247b5b888db3683a83e92",
       "IPY_MODEL_07395472bc134a41897c39732f24d1aa"
      ],
      "layout": "IPY_MODEL_e96e9c9bbcad4a4f87f80fc42fc773c9"
     }
    },
    "acae989236c1487082867f92ca08fdbc": {
     "model_module": "@jupyter-widgets/controls",
     "model_module_version": "1.5.0",
     "model_name": "DescriptionStyleModel",
     "state": {
      "_model_module": "@jupyter-widgets/controls",
      "_model_module_version": "1.5.0",
      "_model_name": "DescriptionStyleModel",
      "_view_count": null,
      "_view_module": "@jupyter-widgets/base",
      "_view_module_version": "1.2.0",
      "_view_name": "StyleView",
      "description_width": ""
     }
    },
    "ae4e57492dea4a0c99f6a60ed56deb7a": {
     "model_module": "@jupyter-widgets/controls",
     "model_module_version": "1.5.0",
     "model_name": "ProgressStyleModel",
     "state": {
      "_model_module": "@jupyter-widgets/controls",
      "_model_module_version": "1.5.0",
      "_model_name": "ProgressStyleModel",
      "_view_count": null,
      "_view_module": "@jupyter-widgets/base",
      "_view_module_version": "1.2.0",
      "_view_name": "StyleView",
      "bar_color": null,
      "description_width": ""
     }
    },
    "b21beacc98ff4fe1b5fcecdc591f5758": {
     "model_module": "@jupyter-widgets/base",
     "model_module_version": "1.2.0",
     "model_name": "LayoutModel",
     "state": {
      "_model_module": "@jupyter-widgets/base",
      "_model_module_version": "1.2.0",
      "_model_name": "LayoutModel",
      "_view_count": null,
      "_view_module": "@jupyter-widgets/base",
      "_view_module_version": "1.2.0",
      "_view_name": "LayoutView",
      "align_content": null,
      "align_items": null,
      "align_self": null,
      "border": null,
      "bottom": null,
      "display": null,
      "flex": null,
      "flex_flow": null,
      "grid_area": null,
      "grid_auto_columns": null,
      "grid_auto_flow": null,
      "grid_auto_rows": null,
      "grid_column": null,
      "grid_gap": null,
      "grid_row": null,
      "grid_template_areas": null,
      "grid_template_columns": null,
      "grid_template_rows": null,
      "height": null,
      "justify_content": null,
      "justify_items": null,
      "left": null,
      "margin": null,
      "max_height": null,
      "max_width": null,
      "min_height": null,
      "min_width": null,
      "object_fit": null,
      "object_position": null,
      "order": null,
      "overflow": null,
      "overflow_x": null,
      "overflow_y": null,
      "padding": null,
      "right": null,
      "top": null,
      "visibility": null,
      "width": null
     }
    },
    "b29ce58a1288480c8dffe45d152280e0": {
     "model_module": "@jupyter-widgets/controls",
     "model_module_version": "1.5.0",
     "model_name": "HTMLModel",
     "state": {
      "_dom_classes": [],
      "_model_module": "@jupyter-widgets/controls",
      "_model_module_version": "1.5.0",
      "_model_name": "HTMLModel",
      "_view_count": null,
      "_view_module": "@jupyter-widgets/controls",
      "_view_module_version": "1.5.0",
      "_view_name": "HTMLView",
      "description": "",
      "description_tooltip": null,
      "layout": "IPY_MODEL_4a35b9a0fa664df58765285c0ad6ddaa",
      "placeholder": "​",
      "style": "IPY_MODEL_32d0a7897a4e4f6d856d1a11ab31bee7",
      "value": "100%"
     }
    },
    "ba87f1019711451bb392da1a0fc4344e": {
     "model_module": "@jupyter-widgets/base",
     "model_module_version": "1.2.0",
     "model_name": "LayoutModel",
     "state": {
      "_model_module": "@jupyter-widgets/base",
      "_model_module_version": "1.2.0",
      "_model_name": "LayoutModel",
      "_view_count": null,
      "_view_module": "@jupyter-widgets/base",
      "_view_module_version": "1.2.0",
      "_view_name": "LayoutView",
      "align_content": null,
      "align_items": null,
      "align_self": null,
      "border": null,
      "bottom": null,
      "display": null,
      "flex": null,
      "flex_flow": null,
      "grid_area": null,
      "grid_auto_columns": null,
      "grid_auto_flow": null,
      "grid_auto_rows": null,
      "grid_column": null,
      "grid_gap": null,
      "grid_row": null,
      "grid_template_areas": null,
      "grid_template_columns": null,
      "grid_template_rows": null,
      "height": null,
      "justify_content": null,
      "justify_items": null,
      "left": null,
      "margin": null,
      "max_height": null,
      "max_width": null,
      "min_height": null,
      "min_width": null,
      "object_fit": null,
      "object_position": null,
      "order": null,
      "overflow": null,
      "overflow_x": null,
      "overflow_y": null,
      "padding": null,
      "right": null,
      "top": null,
      "visibility": null,
      "width": null
     }
    },
    "bf4e50ea0e604d158f7a98b369c2e054": {
     "model_module": "@jupyter-widgets/controls",
     "model_module_version": "1.5.0",
     "model_name": "DescriptionStyleModel",
     "state": {
      "_model_module": "@jupyter-widgets/controls",
      "_model_module_version": "1.5.0",
      "_model_name": "DescriptionStyleModel",
      "_view_count": null,
      "_view_module": "@jupyter-widgets/base",
      "_view_module_version": "1.2.0",
      "_view_name": "StyleView",
      "description_width": ""
     }
    },
    "cd5b861a51d1445aab42493621b9327e": {
     "model_module": "@jupyter-widgets/controls",
     "model_module_version": "1.5.0",
     "model_name": "FloatProgressModel",
     "state": {
      "_dom_classes": [],
      "_model_module": "@jupyter-widgets/controls",
      "_model_module_version": "1.5.0",
      "_model_name": "FloatProgressModel",
      "_view_count": null,
      "_view_module": "@jupyter-widgets/controls",
      "_view_module_version": "1.5.0",
      "_view_name": "ProgressView",
      "bar_style": "danger",
      "description": "",
      "description_tooltip": null,
      "layout": "IPY_MODEL_23c536e67a6d4a43a0476fd4c56c7fc9",
      "max": 5427,
      "min": 0,
      "orientation": "horizontal",
      "style": "IPY_MODEL_f6825c9c44b64e4bb84bdd78c18a9872",
      "value": 11
     }
    },
    "cfebff696d0044128b196df375b9add3": {
     "model_module": "@jupyter-widgets/controls",
     "model_module_version": "1.5.0",
     "model_name": "HTMLModel",
     "state": {
      "_dom_classes": [],
      "_model_module": "@jupyter-widgets/controls",
      "_model_module_version": "1.5.0",
      "_model_name": "HTMLModel",
      "_view_count": null,
      "_view_module": "@jupyter-widgets/controls",
      "_view_module_version": "1.5.0",
      "_view_name": "HTMLView",
      "description": "",
      "description_tooltip": null,
      "layout": "IPY_MODEL_3ad15751330741c1b27d1df3df89027a",
      "placeholder": "​",
      "style": "IPY_MODEL_a1395daa614545f481ab29d87d398a3c",
      "value": " 11/5427 [00:02&lt;18:25,  4.90it/s]"
     }
    },
    "d777e54a7e5144d9969d9ffda6e3f404": {
     "model_module": "@jupyter-widgets/controls",
     "model_module_version": "1.5.0",
     "model_name": "FloatProgressModel",
     "state": {
      "_dom_classes": [],
      "_model_module": "@jupyter-widgets/controls",
      "_model_module_version": "1.5.0",
      "_model_name": "FloatProgressModel",
      "_view_count": null,
      "_view_module": "@jupyter-widgets/controls",
      "_view_module_version": "1.5.0",
      "_view_name": "ProgressView",
      "bar_style": "success",
      "description": "",
      "description_tooltip": null,
      "layout": "IPY_MODEL_90edddfc85cd4a84ae45723f40f974ee",
      "max": 340,
      "min": 0,
      "orientation": "horizontal",
      "style": "IPY_MODEL_1662528a75f64c35906b6848155b930a",
      "value": 340
     }
    },
    "db946e09845849398f77bd3501c89747": {
     "model_module": "@jupyter-widgets/base",
     "model_module_version": "1.2.0",
     "model_name": "LayoutModel",
     "state": {
      "_model_module": "@jupyter-widgets/base",
      "_model_module_version": "1.2.0",
      "_model_name": "LayoutModel",
      "_view_count": null,
      "_view_module": "@jupyter-widgets/base",
      "_view_module_version": "1.2.0",
      "_view_name": "LayoutView",
      "align_content": null,
      "align_items": null,
      "align_self": null,
      "border": null,
      "bottom": null,
      "display": null,
      "flex": null,
      "flex_flow": null,
      "grid_area": null,
      "grid_auto_columns": null,
      "grid_auto_flow": null,
      "grid_auto_rows": null,
      "grid_column": null,
      "grid_gap": null,
      "grid_row": null,
      "grid_template_areas": null,
      "grid_template_columns": null,
      "grid_template_rows": null,
      "height": null,
      "justify_content": null,
      "justify_items": null,
      "left": null,
      "margin": null,
      "max_height": null,
      "max_width": null,
      "min_height": null,
      "min_width": null,
      "object_fit": null,
      "object_position": null,
      "order": null,
      "overflow": null,
      "overflow_x": null,
      "overflow_y": null,
      "padding": null,
      "right": null,
      "top": null,
      "visibility": null,
      "width": null
     }
    },
    "e7458124f59e4ce5955201531aae24dc": {
     "model_module": "@jupyter-widgets/controls",
     "model_module_version": "1.5.0",
     "model_name": "HTMLModel",
     "state": {
      "_dom_classes": [],
      "_model_module": "@jupyter-widgets/controls",
      "_model_module_version": "1.5.0",
      "_model_name": "HTMLModel",
      "_view_count": null,
      "_view_module": "@jupyter-widgets/controls",
      "_view_module_version": "1.5.0",
      "_view_name": "HTMLView",
      "description": "",
      "description_tooltip": null,
      "layout": "IPY_MODEL_2016e246a0db43829d55c14154fa483d",
      "placeholder": "​",
      "style": "IPY_MODEL_797707287d884d539a43df93374cf6f4",
      "value": " 340/340 [00:20&lt;00:00, 16.96it/s]"
     }
    },
    "e96e9c9bbcad4a4f87f80fc42fc773c9": {
     "model_module": "@jupyter-widgets/base",
     "model_module_version": "1.2.0",
     "model_name": "LayoutModel",
     "state": {
      "_model_module": "@jupyter-widgets/base",
      "_model_module_version": "1.2.0",
      "_model_name": "LayoutModel",
      "_view_count": null,
      "_view_module": "@jupyter-widgets/base",
      "_view_module_version": "1.2.0",
      "_view_name": "LayoutView",
      "align_content": null,
      "align_items": null,
      "align_self": null,
      "border": null,
      "bottom": null,
      "display": null,
      "flex": null,
      "flex_flow": null,
      "grid_area": null,
      "grid_auto_columns": null,
      "grid_auto_flow": null,
      "grid_auto_rows": null,
      "grid_column": null,
      "grid_gap": null,
      "grid_row": null,
      "grid_template_areas": null,
      "grid_template_columns": null,
      "grid_template_rows": null,
      "height": null,
      "justify_content": null,
      "justify_items": null,
      "left": null,
      "margin": null,
      "max_height": null,
      "max_width": null,
      "min_height": null,
      "min_width": null,
      "object_fit": null,
      "object_position": null,
      "order": null,
      "overflow": null,
      "overflow_x": null,
      "overflow_y": null,
      "padding": null,
      "right": null,
      "top": null,
      "visibility": null,
      "width": null
     }
    },
    "f2a6cfc05d16435cb4c8ed9d157b7398": {
     "model_module": "@jupyter-widgets/base",
     "model_module_version": "1.2.0",
     "model_name": "LayoutModel",
     "state": {
      "_model_module": "@jupyter-widgets/base",
      "_model_module_version": "1.2.0",
      "_model_name": "LayoutModel",
      "_view_count": null,
      "_view_module": "@jupyter-widgets/base",
      "_view_module_version": "1.2.0",
      "_view_name": "LayoutView",
      "align_content": null,
      "align_items": null,
      "align_self": null,
      "border": null,
      "bottom": null,
      "display": null,
      "flex": null,
      "flex_flow": null,
      "grid_area": null,
      "grid_auto_columns": null,
      "grid_auto_flow": null,
      "grid_auto_rows": null,
      "grid_column": null,
      "grid_gap": null,
      "grid_row": null,
      "grid_template_areas": null,
      "grid_template_columns": null,
      "grid_template_rows": null,
      "height": null,
      "justify_content": null,
      "justify_items": null,
      "left": null,
      "margin": null,
      "max_height": null,
      "max_width": null,
      "min_height": null,
      "min_width": null,
      "object_fit": null,
      "object_position": null,
      "order": null,
      "overflow": null,
      "overflow_x": null,
      "overflow_y": null,
      "padding": null,
      "right": null,
      "top": null,
      "visibility": null,
      "width": null
     }
    },
    "f4e788d5660a426ebe2b4f958a497475": {
     "model_module": "@jupyter-widgets/controls",
     "model_module_version": "1.5.0",
     "model_name": "HTMLModel",
     "state": {
      "_dom_classes": [],
      "_model_module": "@jupyter-widgets/controls",
      "_model_module_version": "1.5.0",
      "_model_name": "HTMLModel",
      "_view_count": null,
      "_view_module": "@jupyter-widgets/controls",
      "_view_module_version": "1.5.0",
      "_view_name": "HTMLView",
      "description": "",
      "description_tooltip": null,
      "layout": "IPY_MODEL_9f6c3c6046bf4dbbbefdff4000d3a66a",
      "placeholder": "​",
      "style": "IPY_MODEL_298375a871824013a416d13e850d8a60",
      "value": " 11/5427 [00:02&lt;19:38,  4.60it/s]"
     }
    },
    "f6825c9c44b64e4bb84bdd78c18a9872": {
     "model_module": "@jupyter-widgets/controls",
     "model_module_version": "1.5.0",
     "model_name": "ProgressStyleModel",
     "state": {
      "_model_module": "@jupyter-widgets/controls",
      "_model_module_version": "1.5.0",
      "_model_name": "ProgressStyleModel",
      "_view_count": null,
      "_view_module": "@jupyter-widgets/base",
      "_view_module_version": "1.2.0",
      "_view_name": "StyleView",
      "bar_color": null,
      "description_width": ""
     }
    },
    "fad32d96a11c4fba99e3850f888baf24": {
     "model_module": "@jupyter-widgets/controls",
     "model_module_version": "1.5.0",
     "model_name": "HBoxModel",
     "state": {
      "_dom_classes": [],
      "_model_module": "@jupyter-widgets/controls",
      "_model_module_version": "1.5.0",
      "_model_name": "HBoxModel",
      "_view_count": null,
      "_view_module": "@jupyter-widgets/controls",
      "_view_module_version": "1.5.0",
      "_view_name": "HBoxView",
      "box_style": "",
      "children": [
       "IPY_MODEL_85b5237604744bf4813c61100dcb2778",
       "IPY_MODEL_2bf9fdee980548e3be90fd4cb7c239f2",
       "IPY_MODEL_f4e788d5660a426ebe2b4f958a497475"
      ],
      "layout": "IPY_MODEL_f2a6cfc05d16435cb4c8ed9d157b7398"
     }
    },
    "fd5d036085264e478943bc6107c1edcc": {
     "model_module": "@jupyter-widgets/controls",
     "model_module_version": "1.5.0",
     "model_name": "HBoxModel",
     "state": {
      "_dom_classes": [],
      "_model_module": "@jupyter-widgets/controls",
      "_model_module_version": "1.5.0",
      "_model_name": "HBoxModel",
      "_view_count": null,
      "_view_module": "@jupyter-widgets/controls",
      "_view_module_version": "1.5.0",
      "_view_name": "HBoxView",
      "box_style": "",
      "children": [
       "IPY_MODEL_1c46321d82db4f6181af821f8ca743fb",
       "IPY_MODEL_cd5b861a51d1445aab42493621b9327e",
       "IPY_MODEL_73c5bf609a1d48fda88387f54791cdc2"
      ],
      "layout": "IPY_MODEL_0a5c36941167431b9ee9f3a81958e2cd"
     }
    }
   }
  }
 },
 "nbformat": 4,
 "nbformat_minor": 1
}